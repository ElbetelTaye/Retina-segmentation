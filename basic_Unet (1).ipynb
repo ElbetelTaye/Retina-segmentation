{
  "cells": [
    {
      "cell_type": "code",
      "execution_count": null,
      "metadata": {
        "colab": {
          "base_uri": "https://localhost:8080/"
        },
        "id": "5CUV5jWWDkCA",
        "outputId": "f32e00cc-49ef-4825-fbcc-6ee914625649"
      },
      "outputs": [
        {
          "output_type": "stream",
          "name": "stdout",
          "text": [
            "Model: \"UNET\"\n",
            "__________________________________________________________________________________________________\n",
            " Layer (type)                   Output Shape         Param #     Connected to                     \n",
            "==================================================================================================\n",
            " input_1 (InputLayer)           [(None, 512, 512, 3  0           []                               \n",
            "                                )]                                                                \n",
            "                                                                                                  \n",
            " conv2d (Conv2D)                (None, 512, 512, 64  1792        ['input_1[0][0]']                \n",
            "                                )                                                                 \n",
            "                                                                                                  \n",
            " batch_normalization (BatchNorm  (None, 512, 512, 64  256        ['conv2d[0][0]']                 \n",
            " alization)                     )                                                                 \n",
            "                                                                                                  \n",
            " activation (Activation)        (None, 512, 512, 64  0           ['batch_normalization[0][0]']    \n",
            "                                )                                                                 \n",
            "                                                                                                  \n",
            " conv2d_1 (Conv2D)              (None, 512, 512, 64  36928       ['activation[0][0]']             \n",
            "                                )                                                                 \n",
            "                                                                                                  \n",
            " batch_normalization_1 (BatchNo  (None, 512, 512, 64  256        ['conv2d_1[0][0]']               \n",
            " rmalization)                   )                                                                 \n",
            "                                                                                                  \n",
            " activation_1 (Activation)      (None, 512, 512, 64  0           ['batch_normalization_1[0][0]']  \n",
            "                                )                                                                 \n",
            "                                                                                                  \n",
            " max_pooling2d (MaxPooling2D)   (None, 256, 256, 64  0           ['activation_1[0][0]']           \n",
            "                                )                                                                 \n",
            "                                                                                                  \n",
            " conv2d_2 (Conv2D)              (None, 256, 256, 12  73856       ['max_pooling2d[0][0]']          \n",
            "                                8)                                                                \n",
            "                                                                                                  \n",
            " batch_normalization_2 (BatchNo  (None, 256, 256, 12  512        ['conv2d_2[0][0]']               \n",
            " rmalization)                   8)                                                                \n",
            "                                                                                                  \n",
            " activation_2 (Activation)      (None, 256, 256, 12  0           ['batch_normalization_2[0][0]']  \n",
            "                                8)                                                                \n",
            "                                                                                                  \n",
            " conv2d_3 (Conv2D)              (None, 256, 256, 12  147584      ['activation_2[0][0]']           \n",
            "                                8)                                                                \n",
            "                                                                                                  \n",
            " batch_normalization_3 (BatchNo  (None, 256, 256, 12  512        ['conv2d_3[0][0]']               \n",
            " rmalization)                   8)                                                                \n",
            "                                                                                                  \n",
            " activation_3 (Activation)      (None, 256, 256, 12  0           ['batch_normalization_3[0][0]']  \n",
            "                                8)                                                                \n",
            "                                                                                                  \n",
            " max_pooling2d_1 (MaxPooling2D)  (None, 128, 128, 12  0          ['activation_3[0][0]']           \n",
            "                                8)                                                                \n",
            "                                                                                                  \n",
            " conv2d_4 (Conv2D)              (None, 128, 128, 25  295168      ['max_pooling2d_1[0][0]']        \n",
            "                                6)                                                                \n",
            "                                                                                                  \n",
            " batch_normalization_4 (BatchNo  (None, 128, 128, 25  1024       ['conv2d_4[0][0]']               \n",
            " rmalization)                   6)                                                                \n",
            "                                                                                                  \n",
            " activation_4 (Activation)      (None, 128, 128, 25  0           ['batch_normalization_4[0][0]']  \n",
            "                                6)                                                                \n",
            "                                                                                                  \n",
            " conv2d_5 (Conv2D)              (None, 128, 128, 25  590080      ['activation_4[0][0]']           \n",
            "                                6)                                                                \n",
            "                                                                                                  \n",
            " batch_normalization_5 (BatchNo  (None, 128, 128, 25  1024       ['conv2d_5[0][0]']               \n",
            " rmalization)                   6)                                                                \n",
            "                                                                                                  \n",
            " activation_5 (Activation)      (None, 128, 128, 25  0           ['batch_normalization_5[0][0]']  \n",
            "                                6)                                                                \n",
            "                                                                                                  \n",
            " max_pooling2d_2 (MaxPooling2D)  (None, 64, 64, 256)  0          ['activation_5[0][0]']           \n",
            "                                                                                                  \n",
            " conv2d_6 (Conv2D)              (None, 64, 64, 512)  1180160     ['max_pooling2d_2[0][0]']        \n",
            "                                                                                                  \n",
            " batch_normalization_6 (BatchNo  (None, 64, 64, 512)  2048       ['conv2d_6[0][0]']               \n",
            " rmalization)                                                                                     \n",
            "                                                                                                  \n",
            " activation_6 (Activation)      (None, 64, 64, 512)  0           ['batch_normalization_6[0][0]']  \n",
            "                                                                                                  \n",
            " conv2d_7 (Conv2D)              (None, 64, 64, 512)  2359808     ['activation_6[0][0]']           \n",
            "                                                                                                  \n",
            " batch_normalization_7 (BatchNo  (None, 64, 64, 512)  2048       ['conv2d_7[0][0]']               \n",
            " rmalization)                                                                                     \n",
            "                                                                                                  \n",
            " activation_7 (Activation)      (None, 64, 64, 512)  0           ['batch_normalization_7[0][0]']  \n",
            "                                                                                                  \n",
            " max_pooling2d_3 (MaxPooling2D)  (None, 32, 32, 512)  0          ['activation_7[0][0]']           \n",
            "                                                                                                  \n",
            " conv2d_8 (Conv2D)              (None, 32, 32, 1024  4719616     ['max_pooling2d_3[0][0]']        \n",
            "                                )                                                                 \n",
            "                                                                                                  \n",
            " batch_normalization_8 (BatchNo  (None, 32, 32, 1024  4096       ['conv2d_8[0][0]']               \n",
            " rmalization)                   )                                                                 \n",
            "                                                                                                  \n",
            " activation_8 (Activation)      (None, 32, 32, 1024  0           ['batch_normalization_8[0][0]']  \n",
            "                                )                                                                 \n",
            "                                                                                                  \n",
            " conv2d_9 (Conv2D)              (None, 32, 32, 1024  9438208     ['activation_8[0][0]']           \n",
            "                                )                                                                 \n",
            "                                                                                                  \n",
            " batch_normalization_9 (BatchNo  (None, 32, 32, 1024  4096       ['conv2d_9[0][0]']               \n",
            " rmalization)                   )                                                                 \n",
            "                                                                                                  \n",
            " activation_9 (Activation)      (None, 32, 32, 1024  0           ['batch_normalization_9[0][0]']  \n",
            "                                )                                                                 \n",
            "                                                                                                  \n",
            " conv2d_transpose (Conv2DTransp  (None, 64, 64, 512)  2097664    ['activation_9[0][0]']           \n",
            " ose)                                                                                             \n",
            "                                                                                                  \n",
            " concatenate (Concatenate)      (None, 64, 64, 1024  0           ['conv2d_transpose[0][0]',       \n",
            "                                )                                 'activation_7[0][0]']           \n",
            "                                                                                                  \n",
            " conv2d_10 (Conv2D)             (None, 64, 64, 512)  4719104     ['concatenate[0][0]']            \n",
            "                                                                                                  \n",
            " batch_normalization_10 (BatchN  (None, 64, 64, 512)  2048       ['conv2d_10[0][0]']              \n",
            " ormalization)                                                                                    \n",
            "                                                                                                  \n",
            " activation_10 (Activation)     (None, 64, 64, 512)  0           ['batch_normalization_10[0][0]'] \n",
            "                                                                                                  \n",
            " conv2d_11 (Conv2D)             (None, 64, 64, 512)  2359808     ['activation_10[0][0]']          \n",
            "                                                                                                  \n",
            " batch_normalization_11 (BatchN  (None, 64, 64, 512)  2048       ['conv2d_11[0][0]']              \n",
            " ormalization)                                                                                    \n",
            "                                                                                                  \n",
            " activation_11 (Activation)     (None, 64, 64, 512)  0           ['batch_normalization_11[0][0]'] \n",
            "                                                                                                  \n",
            " conv2d_transpose_1 (Conv2DTran  (None, 128, 128, 25  524544     ['activation_11[0][0]']          \n",
            " spose)                         6)                                                                \n",
            "                                                                                                  \n",
            " concatenate_1 (Concatenate)    (None, 128, 128, 51  0           ['conv2d_transpose_1[0][0]',     \n",
            "                                2)                                'activation_5[0][0]']           \n",
            "                                                                                                  \n",
            " conv2d_12 (Conv2D)             (None, 128, 128, 25  1179904     ['concatenate_1[0][0]']          \n",
            "                                6)                                                                \n",
            "                                                                                                  \n",
            " batch_normalization_12 (BatchN  (None, 128, 128, 25  1024       ['conv2d_12[0][0]']              \n",
            " ormalization)                  6)                                                                \n",
            "                                                                                                  \n",
            " activation_12 (Activation)     (None, 128, 128, 25  0           ['batch_normalization_12[0][0]'] \n",
            "                                6)                                                                \n",
            "                                                                                                  \n",
            " conv2d_13 (Conv2D)             (None, 128, 128, 25  590080      ['activation_12[0][0]']          \n",
            "                                6)                                                                \n",
            "                                                                                                  \n",
            " batch_normalization_13 (BatchN  (None, 128, 128, 25  1024       ['conv2d_13[0][0]']              \n",
            " ormalization)                  6)                                                                \n",
            "                                                                                                  \n",
            " activation_13 (Activation)     (None, 128, 128, 25  0           ['batch_normalization_13[0][0]'] \n",
            "                                6)                                                                \n",
            "                                                                                                  \n",
            " conv2d_transpose_2 (Conv2DTran  (None, 256, 256, 12  131200     ['activation_13[0][0]']          \n",
            " spose)                         8)                                                                \n",
            "                                                                                                  \n",
            " concatenate_2 (Concatenate)    (None, 256, 256, 25  0           ['conv2d_transpose_2[0][0]',     \n",
            "                                6)                                'activation_3[0][0]']           \n",
            "                                                                                                  \n",
            " conv2d_14 (Conv2D)             (None, 256, 256, 12  295040      ['concatenate_2[0][0]']          \n",
            "                                8)                                                                \n",
            "                                                                                                  \n",
            " batch_normalization_14 (BatchN  (None, 256, 256, 12  512        ['conv2d_14[0][0]']              \n",
            " ormalization)                  8)                                                                \n",
            "                                                                                                  \n",
            " activation_14 (Activation)     (None, 256, 256, 12  0           ['batch_normalization_14[0][0]'] \n",
            "                                8)                                                                \n",
            "                                                                                                  \n",
            " conv2d_15 (Conv2D)             (None, 256, 256, 12  147584      ['activation_14[0][0]']          \n",
            "                                8)                                                                \n",
            "                                                                                                  \n",
            " batch_normalization_15 (BatchN  (None, 256, 256, 12  512        ['conv2d_15[0][0]']              \n",
            " ormalization)                  8)                                                                \n",
            "                                                                                                  \n",
            " activation_15 (Activation)     (None, 256, 256, 12  0           ['batch_normalization_15[0][0]'] \n",
            "                                8)                                                                \n",
            "                                                                                                  \n",
            " conv2d_transpose_3 (Conv2DTran  (None, 512, 512, 64  32832      ['activation_15[0][0]']          \n",
            " spose)                         )                                                                 \n",
            "                                                                                                  \n",
            " concatenate_3 (Concatenate)    (None, 512, 512, 12  0           ['conv2d_transpose_3[0][0]',     \n",
            "                                8)                                'activation_1[0][0]']           \n",
            "                                                                                                  \n",
            " conv2d_16 (Conv2D)             (None, 512, 512, 64  73792       ['concatenate_3[0][0]']          \n",
            "                                )                                                                 \n",
            "                                                                                                  \n",
            " batch_normalization_16 (BatchN  (None, 512, 512, 64  256        ['conv2d_16[0][0]']              \n",
            " ormalization)                  )                                                                 \n",
            "                                                                                                  \n",
            " activation_16 (Activation)     (None, 512, 512, 64  0           ['batch_normalization_16[0][0]'] \n",
            "                                )                                                                 \n",
            "                                                                                                  \n",
            " conv2d_17 (Conv2D)             (None, 512, 512, 64  36928       ['activation_16[0][0]']          \n",
            "                                )                                                                 \n",
            "                                                                                                  \n",
            " batch_normalization_17 (BatchN  (None, 512, 512, 64  256        ['conv2d_17[0][0]']              \n",
            " ormalization)                  )                                                                 \n",
            "                                                                                                  \n",
            " activation_17 (Activation)     (None, 512, 512, 64  0           ['batch_normalization_17[0][0]'] \n",
            "                                )                                                                 \n",
            "                                                                                                  \n",
            " conv2d_18 (Conv2D)             (None, 512, 512, 1)  65          ['activation_17[0][0]']          \n",
            "                                                                                                  \n",
            "==================================================================================================\n",
            "Total params: 31,055,297\n",
            "Trainable params: 31,043,521\n",
            "Non-trainable params: 11,776\n",
            "__________________________________________________________________________________________________\n"
          ]
        }
      ],
      "source": [
        "# Basic Unet model\n",
        "from tensorflow.keras.layers import Conv2D, BatchNormalization, Activation, MaxPool2D, Conv2DTranspose, Concatenate, Input, Dropout\n",
        "from tensorflow.keras.models import Model\n",
        "import os\n",
        "os.environ[\"TF_CPP_MIN_LOG_LEVEL\"] = \"2\"\n",
        "import numpy as np\n",
        "import cv2\n",
        "from glob import glob\n",
        "from sklearn.utils import shuffle\n",
        "import tensorflow as tf\n",
        "from tensorflow.keras.callbacks import ModelCheckpoint, CSVLogger, ReduceLROnPlateau, EarlyStopping, TensorBoard\n",
        "from tensorflow.keras.optimizers import Adam\n",
        "from tensorflow.keras.metrics import Recall, Precision\n",
        "\n",
        "def conv_block(inputs, num_filters):\n",
        "    x = Conv2D(num_filters, 3, padding=\"same\")(inputs)\n",
        "    x = BatchNormalization()(x)\n",
        "    x = Activation(\"relu\")(x)\n",
        "    \n",
        "    x = Conv2D(num_filters, 3, padding=\"same\")(x)\n",
        "    x = BatchNormalization()(x)\n",
        "    x = Activation(\"relu\")(x)\n",
        "    \n",
        "    return x\n",
        "\n",
        "def encoder_block(inputs, num_filters):\n",
        "    s = conv_block(inputs, num_filters)\n",
        "    p = MaxPool2D((2, 2))(s)\n",
        "    return s, p\n",
        "\n",
        "def decoder_block(inputs, skip_features, num_filters):\n",
        "    x = Conv2DTranspose(num_filters, (2, 2), strides=2, padding=\"same\")(inputs)\n",
        "    x = Concatenate()([x, skip_features])\n",
        "    x = conv_block(x, num_filters)\n",
        "    return x\n",
        "\n",
        "def build_unet(input_shape):\n",
        "    inputs = Input(input_shape)\n",
        "\n",
        "    s1, p1 = encoder_block(inputs, 64)\n",
        "    s2, p2 = encoder_block(p1, 128)\n",
        "    s3, p3 = encoder_block(p2, 256)\n",
        "    s4, p4 = encoder_block(p3, 512)\n",
        "\n",
        "    b1 = conv_block(p4, 1024)\n",
        "\n",
        "    d1 = decoder_block(b1, s4, 512)\n",
        "    d2 = decoder_block(d1, s3, 256)\n",
        "    d3 = decoder_block(d2, s2, 128)\n",
        "    d4 = decoder_block(d3, s1, 64)\n",
        "\n",
        "    outputs = Conv2D(1, 1, padding=\"same\", activation=\"sigmoid\")(d4)\n",
        "\n",
        "    model = Model(inputs, outputs, name=\"UNET\")\n",
        "    return model\n",
        "\n",
        "if __name__ == \"__main__\":\n",
        "    input_shape = (512, 512, 3)\n",
        "    model = build_unet(input_shape)\n",
        "    model.summary()"
      ]
    },
    {
      "cell_type": "code",
      "execution_count": null,
      "metadata": {
        "id": "qFimyjKCl2_N"
      },
      "outputs": [],
      "source": [
        "#train\n",
        "from tensorflow.keras import backend as K\n",
        "from tqdm import tqdm\n",
        "import imageio\n",
        "from albumentations import HorizontalFlip, VerticalFlip, ElasticTransform, Transpose, RandomRotate90, GridDistortion, OpticalDistortion, CoarseDropout\n",
        "from google.colab.patches import cv2_imshow\n",
        "\n",
        "\n",
        "def iou(y_true, y_pred):\n",
        "    def f(y_true, y_pred):\n",
        "        intersection = (y_true * y_pred).sum()\n",
        "        union = y_true.sum() + y_pred.sum() - intersection\n",
        "        x = (intersection + 1e-15) / (union + 1e-15)\n",
        "        x = x.astype(np.float32)\n",
        "        return x\n",
        "    return tf.numpy_function(f, [y_true, y_pred], tf.float32)\n",
        "\n",
        "smooth = 1e-15\n",
        "def dice_coef(y_true, y_pred):\n",
        "    y_true = tf.keras.layers.Flatten()(y_true)\n",
        "    y_pred = tf.keras.layers.Flatten()(y_pred)\n",
        "    intersection = tf.reduce_sum(y_true * y_pred)\n",
        "    return (2. * intersection + smooth) / (tf.reduce_sum(y_true) + tf.reduce_sum(y_pred) + smooth)\n",
        "\n",
        "def dice_loss(y_true, y_pred):\n",
        "    return 1.0 - dice_coef(y_true, y_pred)"
      ]
    },
    {
      "cell_type": "code",
      "execution_count": null,
      "metadata": {
        "colab": {
          "base_uri": "https://localhost:8080/"
        },
        "id": "BTQWy9wxz3ih",
        "outputId": "0c6994b1-2fe7-4de8-ebe1-f10faf466a52"
      },
      "outputs": [
        {
          "name": "stdout",
          "output_type": "stream",
          "text": [
            "Train: 160 - 160\n",
            "Valid: 20 - 20\n",
            "Epoch 1/150\n",
            "40/40 [==============================] - ETA: 0s - loss: 0.6661 - dice_coef: 0.3339 - iou: 0.2035 - recall_1: 0.5586 - precision_1: 0.4969\n",
            "Epoch 1: val_loss improved from inf to 0.82919, saving model to /content/drive/MyDrive/forunet/files/fbasicmodel.h5\n",
            "40/40 [==============================] - 48s 1s/step - loss: 0.6661 - dice_coef: 0.3339 - iou: 0.2035 - recall_1: 0.5586 - precision_1: 0.4969 - val_loss: 0.8292 - val_dice_coef: 0.1708 - val_iou: 0.0935 - val_recall_1: 4.7389e-06 - val_precision_1: 3.9963e-04 - lr: 1.0000e-04\n",
            "Epoch 2/150\n",
            "40/40 [==============================] - ETA: 0s - loss: 0.5139 - dice_coef: 0.4861 - iou: 0.3224 - recall_1: 0.3973 - precision_1: 0.7616\n",
            "Epoch 2: val_loss did not improve from 0.82919\n",
            "40/40 [==============================] - 42s 1s/step - loss: 0.5139 - dice_coef: 0.4861 - iou: 0.3224 - recall_1: 0.3973 - precision_1: 0.7616 - val_loss: 0.8474 - val_dice_coef: 0.1526 - val_iou: 0.0827 - val_recall_1: 0.0000e+00 - val_precision_1: 0.0000e+00 - lr: 1.0000e-04\n",
            "Epoch 3/150\n",
            "40/40 [==============================] - ETA: 0s - loss: 0.4562 - dice_coef: 0.5438 - iou: 0.3746 - recall_1: 0.3655 - precision_1: 0.8438\n",
            "Epoch 3: val_loss did not improve from 0.82919\n",
            "40/40 [==============================] - 44s 1s/step - loss: 0.4562 - dice_coef: 0.5438 - iou: 0.3746 - recall_1: 0.3655 - precision_1: 0.8438 - val_loss: 0.8758 - val_dice_coef: 0.1242 - val_iou: 0.0662 - val_recall_1: 0.0000e+00 - val_precision_1: 0.0000e+00 - lr: 1.0000e-04\n",
            "Epoch 4/150\n",
            "40/40 [==============================] - ETA: 0s - loss: 0.4238 - dice_coef: 0.5762 - iou: 0.4057 - recall_1: 0.3573 - precision_1: 0.8740\n",
            "Epoch 4: val_loss did not improve from 0.82919\n",
            "40/40 [==============================] - 43s 1s/step - loss: 0.4238 - dice_coef: 0.5762 - iou: 0.4057 - recall_1: 0.3573 - precision_1: 0.8740 - val_loss: 0.9039 - val_dice_coef: 0.0961 - val_iou: 0.0505 - val_recall_1: 0.0000e+00 - val_precision_1: 0.0000e+00 - lr: 1.0000e-04\n",
            "Epoch 5/150\n",
            "40/40 [==============================] - ETA: 0s - loss: 0.3988 - dice_coef: 0.6012 - iou: 0.4308 - recall_1: 0.3525 - precision_1: 0.8930\n",
            "Epoch 5: val_loss did not improve from 0.82919\n",
            "40/40 [==============================] - 44s 1s/step - loss: 0.3988 - dice_coef: 0.6012 - iou: 0.4308 - recall_1: 0.3525 - precision_1: 0.8930 - val_loss: 0.8848 - val_dice_coef: 0.1152 - val_iou: 0.0612 - val_recall_1: 0.0129 - val_precision_1: 0.4575 - lr: 1.0000e-04\n",
            "Epoch 6/150\n",
            "40/40 [==============================] - ETA: 0s - loss: 0.3804 - dice_coef: 0.6196 - iou: 0.4498 - recall_1: 0.3489 - precision_1: 0.9048\n",
            "Epoch 6: val_loss did not improve from 0.82919\n",
            "40/40 [==============================] - 44s 1s/step - loss: 0.3804 - dice_coef: 0.6196 - iou: 0.4498 - recall_1: 0.3489 - precision_1: 0.9048 - val_loss: 0.8523 - val_dice_coef: 0.1477 - val_iou: 0.0801 - val_recall_1: 0.0308 - val_precision_1: 0.4290 - lr: 1.0000e-04\n",
            "Epoch 7/150\n",
            "40/40 [==============================] - ETA: 0s - loss: 0.3633 - dice_coef: 0.6367 - iou: 0.4679 - recall_1: 0.3464 - precision_1: 0.9151\n",
            "Epoch 7: val_loss improved from 0.82919 to 0.76183, saving model to /content/drive/MyDrive/forunet/files/fbasicmodel.h5\n",
            "40/40 [==============================] - 47s 1s/step - loss: 0.3633 - dice_coef: 0.6367 - iou: 0.4679 - recall_1: 0.3464 - precision_1: 0.9151 - val_loss: 0.7618 - val_dice_coef: 0.2382 - val_iou: 0.1362 - val_recall_1: 0.0753 - val_precision_1: 0.5320 - lr: 1.0000e-04\n",
            "Epoch 8/150\n",
            "40/40 [==============================] - ETA: 0s - loss: 0.3475 - dice_coef: 0.6525 - iou: 0.4850 - recall_1: 0.3429 - precision_1: 0.9248\n",
            "Epoch 8: val_loss improved from 0.76183 to 0.64962, saving model to /content/drive/MyDrive/forunet/files/fbasicmodel.h5\n",
            "40/40 [==============================] - 47s 1s/step - loss: 0.3475 - dice_coef: 0.6525 - iou: 0.4850 - recall_1: 0.3429 - precision_1: 0.9248 - val_loss: 0.6496 - val_dice_coef: 0.3504 - val_iou: 0.2132 - val_recall_1: 0.1581 - val_precision_1: 0.5126 - lr: 1.0000e-04\n",
            "Epoch 9/150\n",
            "40/40 [==============================] - ETA: 0s - loss: 0.3320 - dice_coef: 0.6680 - iou: 0.5022 - recall_1: 0.3419 - precision_1: 0.9325\n",
            "Epoch 9: val_loss improved from 0.64962 to 0.55401, saving model to /content/drive/MyDrive/forunet/files/fbasicmodel.h5\n",
            "40/40 [==============================] - 47s 1s/step - loss: 0.3320 - dice_coef: 0.6680 - iou: 0.5022 - recall_1: 0.3419 - precision_1: 0.9325 - val_loss: 0.5540 - val_dice_coef: 0.4460 - val_iou: 0.2879 - val_recall_1: 0.2085 - val_precision_1: 0.6235 - lr: 1.0000e-04\n",
            "Epoch 10/150\n",
            "40/40 [==============================] - ETA: 0s - loss: 0.3177 - dice_coef: 0.6823 - iou: 0.5185 - recall_1: 0.3401 - precision_1: 0.9402\n",
            "Epoch 10: val_loss improved from 0.55401 to 0.50117, saving model to /content/drive/MyDrive/forunet/files/fbasicmodel.h5\n",
            "40/40 [==============================] - 47s 1s/step - loss: 0.3177 - dice_coef: 0.6823 - iou: 0.5185 - recall_1: 0.3401 - precision_1: 0.9402 - val_loss: 0.5012 - val_dice_coef: 0.4988 - val_iou: 0.3334 - val_recall_1: 0.2117 - val_precision_1: 0.7560 - lr: 1.0000e-04\n",
            "Epoch 11/150\n",
            "40/40 [==============================] - ETA: 0s - loss: 0.3076 - dice_coef: 0.6924 - iou: 0.5302 - recall_1: 0.3387 - precision_1: 0.9435\n",
            "Epoch 11: val_loss improved from 0.50117 to 0.41720, saving model to /content/drive/MyDrive/forunet/files/fbasicmodel.h5\n",
            "40/40 [==============================] - 47s 1s/step - loss: 0.3076 - dice_coef: 0.6924 - iou: 0.5302 - recall_1: 0.3387 - precision_1: 0.9435 - val_loss: 0.4172 - val_dice_coef: 0.5828 - val_iou: 0.4123 - val_recall_1: 0.2547 - val_precision_1: 0.8535 - lr: 1.0000e-04\n",
            "Epoch 12/150\n",
            "40/40 [==============================] - ETA: 0s - loss: 0.3001 - dice_coef: 0.6999 - iou: 0.5390 - recall_1: 0.3361 - precision_1: 0.9453\n",
            "Epoch 12: val_loss improved from 0.41720 to 0.41155, saving model to /content/drive/MyDrive/forunet/files/fbasicmodel.h5\n",
            "40/40 [==============================] - 48s 1s/step - loss: 0.3001 - dice_coef: 0.6999 - iou: 0.5390 - recall_1: 0.3361 - precision_1: 0.9453 - val_loss: 0.4116 - val_dice_coef: 0.5884 - val_iou: 0.4180 - val_recall_1: 0.2916 - val_precision_1: 0.7692 - lr: 1.0000e-04\n",
            "Epoch 13/150\n",
            "40/40 [==============================] - ETA: 0s - loss: 0.2905 - dice_coef: 0.7095 - iou: 0.5504 - recall_1: 0.3364 - precision_1: 0.9487\n",
            "Epoch 13: val_loss improved from 0.41155 to 0.37032, saving model to /content/drive/MyDrive/forunet/files/fbasicmodel.h5\n",
            "40/40 [==============================] - 48s 1s/step - loss: 0.2905 - dice_coef: 0.7095 - iou: 0.5504 - recall_1: 0.3364 - precision_1: 0.9487 - val_loss: 0.3703 - val_dice_coef: 0.6297 - val_iou: 0.4606 - val_recall_1: 0.2420 - val_precision_1: 0.9689 - lr: 1.0000e-04\n",
            "Epoch 14/150\n",
            "40/40 [==============================] - ETA: 0s - loss: 0.2811 - dice_coef: 0.7189 - iou: 0.5617 - recall_1: 0.3337 - precision_1: 0.9529\n",
            "Epoch 14: val_loss improved from 0.37032 to 0.34504, saving model to /content/drive/MyDrive/forunet/files/fbasicmodel.h5\n",
            "40/40 [==============================] - 46s 1s/step - loss: 0.2811 - dice_coef: 0.7189 - iou: 0.5617 - recall_1: 0.3337 - precision_1: 0.9529 - val_loss: 0.3450 - val_dice_coef: 0.6550 - val_iou: 0.4879 - val_recall_1: 0.2705 - val_precision_1: 0.9512 - lr: 1.0000e-04\n",
            "Epoch 15/150\n",
            "40/40 [==============================] - ETA: 0s - loss: 0.2744 - dice_coef: 0.7256 - iou: 0.5699 - recall_1: 0.3334 - precision_1: 0.9545\n",
            "Epoch 15: val_loss improved from 0.34504 to 0.30435, saving model to /content/drive/MyDrive/forunet/files/fbasicmodel.h5\n",
            "40/40 [==============================] - 48s 1s/step - loss: 0.2744 - dice_coef: 0.7256 - iou: 0.5699 - recall_1: 0.3334 - precision_1: 0.9545 - val_loss: 0.3043 - val_dice_coef: 0.6957 - val_iou: 0.5341 - val_recall_1: 0.3273 - val_precision_1: 0.9349 - lr: 1.0000e-04\n",
            "Epoch 16/150\n",
            "40/40 [==============================] - ETA: 0s - loss: 0.2669 - dice_coef: 0.7331 - iou: 0.5792 - recall_1: 0.3322 - precision_1: 0.9572\n",
            "Epoch 16: val_loss improved from 0.30435 to 0.29948, saving model to /content/drive/MyDrive/forunet/files/fbasicmodel.h5\n",
            "40/40 [==============================] - 47s 1s/step - loss: 0.2669 - dice_coef: 0.7331 - iou: 0.5792 - recall_1: 0.3322 - precision_1: 0.9572 - val_loss: 0.2995 - val_dice_coef: 0.7005 - val_iou: 0.5398 - val_recall_1: 0.3066 - val_precision_1: 0.9526 - lr: 1.0000e-04\n",
            "Epoch 17/150\n",
            "40/40 [==============================] - ETA: 0s - loss: 0.2590 - dice_coef: 0.7410 - iou: 0.5890 - recall_1: 0.3321 - precision_1: 0.9599\n",
            "Epoch 17: val_loss improved from 0.29948 to 0.28834, saving model to /content/drive/MyDrive/forunet/files/fbasicmodel.h5\n",
            "40/40 [==============================] - 47s 1s/step - loss: 0.2590 - dice_coef: 0.7410 - iou: 0.5890 - recall_1: 0.3321 - precision_1: 0.9599 - val_loss: 0.2883 - val_dice_coef: 0.7117 - val_iou: 0.5531 - val_recall_1: 0.3204 - val_precision_1: 0.9472 - lr: 1.0000e-04\n",
            "Epoch 18/150\n",
            "40/40 [==============================] - ETA: 0s - loss: 0.2537 - dice_coef: 0.7463 - iou: 0.5958 - recall_1: 0.3313 - precision_1: 0.9615\n",
            "Epoch 18: val_loss did not improve from 0.28834\n",
            "40/40 [==============================] - 43s 1s/step - loss: 0.2537 - dice_coef: 0.7463 - iou: 0.5958 - recall_1: 0.3313 - precision_1: 0.9615 - val_loss: 0.2891 - val_dice_coef: 0.7109 - val_iou: 0.5522 - val_recall_1: 0.3224 - val_precision_1: 0.9451 - lr: 1.0000e-04\n",
            "Epoch 19/150\n",
            "40/40 [==============================] - ETA: 0s - loss: 0.2476 - dice_coef: 0.7524 - iou: 0.6035 - recall_1: 0.3323 - precision_1: 0.9630\n",
            "Epoch 19: val_loss improved from 0.28834 to 0.28401, saving model to /content/drive/MyDrive/forunet/files/fbasicmodel.h5\n",
            "40/40 [==============================] - 46s 1s/step - loss: 0.2476 - dice_coef: 0.7524 - iou: 0.6035 - recall_1: 0.3323 - precision_1: 0.9630 - val_loss: 0.2840 - val_dice_coef: 0.7160 - val_iou: 0.5583 - val_recall_1: 0.3187 - val_precision_1: 0.9585 - lr: 1.0000e-04\n",
            "Epoch 20/150\n",
            "40/40 [==============================] - ETA: 0s - loss: 0.2419 - dice_coef: 0.7581 - iou: 0.6108 - recall_1: 0.3300 - precision_1: 0.9659\n",
            "Epoch 20: val_loss improved from 0.28401 to 0.27687, saving model to /content/drive/MyDrive/forunet/files/fbasicmodel.h5\n",
            "40/40 [==============================] - 48s 1s/step - loss: 0.2419 - dice_coef: 0.7581 - iou: 0.6108 - recall_1: 0.3300 - precision_1: 0.9659 - val_loss: 0.2769 - val_dice_coef: 0.7231 - val_iou: 0.5671 - val_recall_1: 0.3392 - val_precision_1: 0.9415 - lr: 1.0000e-04\n",
            "Epoch 21/150\n",
            "40/40 [==============================] - ETA: 0s - loss: 0.2351 - dice_coef: 0.7649 - iou: 0.6197 - recall_1: 0.3291 - precision_1: 0.9688\n",
            "Epoch 21: val_loss did not improve from 0.27687\n",
            "40/40 [==============================] - 44s 1s/step - loss: 0.2351 - dice_coef: 0.7649 - iou: 0.6197 - recall_1: 0.3291 - precision_1: 0.9688 - val_loss: 0.2783 - val_dice_coef: 0.7217 - val_iou: 0.5653 - val_recall_1: 0.3329 - val_precision_1: 0.9487 - lr: 1.0000e-04\n",
            "Epoch 22/150\n",
            "40/40 [==============================] - ETA: 0s - loss: 0.2287 - dice_coef: 0.7713 - iou: 0.6281 - recall_1: 0.3293 - precision_1: 0.9710\n",
            "Epoch 22: val_loss improved from 0.27687 to 0.27253, saving model to /content/drive/MyDrive/forunet/files/fbasicmodel.h5\n",
            "40/40 [==============================] - 47s 1s/step - loss: 0.2287 - dice_coef: 0.7713 - iou: 0.6281 - recall_1: 0.3293 - precision_1: 0.9710 - val_loss: 0.2725 - val_dice_coef: 0.7275 - val_iou: 0.5724 - val_recall_1: 0.3274 - val_precision_1: 0.9555 - lr: 1.0000e-04\n",
            "Epoch 23/150\n",
            "40/40 [==============================] - ETA: 0s - loss: 0.2238 - dice_coef: 0.7762 - iou: 0.6347 - recall_1: 0.3291 - precision_1: 0.9725\n",
            "Epoch 23: val_loss did not improve from 0.27253\n",
            "40/40 [==============================] - 44s 1s/step - loss: 0.2238 - dice_coef: 0.7762 - iou: 0.6347 - recall_1: 0.3291 - precision_1: 0.9725 - val_loss: 0.2731 - val_dice_coef: 0.7269 - val_iou: 0.5716 - val_recall_1: 0.3086 - val_precision_1: 0.9635 - lr: 1.0000e-04\n",
            "Epoch 24/150\n",
            "40/40 [==============================] - ETA: 0s - loss: 0.2226 - dice_coef: 0.7774 - iou: 0.6361 - recall_1: 0.3285 - precision_1: 0.9718\n",
            "Epoch 24: val_loss did not improve from 0.27253\n",
            "40/40 [==============================] - 44s 1s/step - loss: 0.2226 - dice_coef: 0.7774 - iou: 0.6361 - recall_1: 0.3285 - precision_1: 0.9718 - val_loss: 0.2762 - val_dice_coef: 0.7238 - val_iou: 0.5679 - val_recall_1: 0.3328 - val_precision_1: 0.9404 - lr: 1.0000e-04\n",
            "Epoch 25/150\n",
            "40/40 [==============================] - ETA: 0s - loss: 0.2195 - dice_coef: 0.7805 - iou: 0.6404 - recall_1: 0.3273 - precision_1: 0.9731\n",
            "Epoch 25: val_loss improved from 0.27253 to 0.26644, saving model to /content/drive/MyDrive/forunet/files/fbasicmodel.h5\n",
            "40/40 [==============================] - 47s 1s/step - loss: 0.2195 - dice_coef: 0.7805 - iou: 0.6404 - recall_1: 0.3273 - precision_1: 0.9731 - val_loss: 0.2664 - val_dice_coef: 0.7336 - val_iou: 0.5800 - val_recall_1: 0.3381 - val_precision_1: 0.9392 - lr: 1.0000e-04\n",
            "Epoch 26/150\n",
            "40/40 [==============================] - ETA: 0s - loss: 0.2155 - dice_coef: 0.7845 - iou: 0.6458 - recall_1: 0.3283 - precision_1: 0.9739\n",
            "Epoch 26: val_loss did not improve from 0.26644\n",
            "40/40 [==============================] - 44s 1s/step - loss: 0.2155 - dice_coef: 0.7845 - iou: 0.6458 - recall_1: 0.3283 - precision_1: 0.9739 - val_loss: 0.2728 - val_dice_coef: 0.7272 - val_iou: 0.5719 - val_recall_1: 0.3234 - val_precision_1: 0.9434 - lr: 1.0000e-04\n",
            "Epoch 27/150\n",
            "40/40 [==============================] - ETA: 0s - loss: 0.2132 - dice_coef: 0.7868 - iou: 0.6489 - recall_1: 0.3287 - precision_1: 0.9740\n",
            "Epoch 27: val_loss improved from 0.26644 to 0.26328, saving model to /content/drive/MyDrive/forunet/files/fbasicmodel.h5\n",
            "40/40 [==============================] - 47s 1s/step - loss: 0.2132 - dice_coef: 0.7868 - iou: 0.6489 - recall_1: 0.3287 - precision_1: 0.9740 - val_loss: 0.2633 - val_dice_coef: 0.7367 - val_iou: 0.5839 - val_recall_1: 0.3159 - val_precision_1: 0.9577 - lr: 1.0000e-04\n",
            "Epoch 28/150\n",
            "40/40 [==============================] - ETA: 0s - loss: 0.2092 - dice_coef: 0.7908 - iou: 0.6544 - recall_1: 0.3271 - precision_1: 0.9761\n",
            "Epoch 28: val_loss improved from 0.26328 to 0.26116, saving model to /content/drive/MyDrive/forunet/files/fbasicmodel.h5\n",
            "40/40 [==============================] - 46s 1s/step - loss: 0.2092 - dice_coef: 0.7908 - iou: 0.6544 - recall_1: 0.3271 - precision_1: 0.9761 - val_loss: 0.2612 - val_dice_coef: 0.7388 - val_iou: 0.5865 - val_recall_1: 0.3264 - val_precision_1: 0.9519 - lr: 1.0000e-04\n",
            "Epoch 29/150\n",
            "40/40 [==============================] - ETA: 0s - loss: 0.2020 - dice_coef: 0.7980 - iou: 0.6643 - recall_1: 0.3271 - precision_1: 0.9791\n",
            "Epoch 29: val_loss improved from 0.26116 to 0.25794, saving model to /content/drive/MyDrive/forunet/files/fbasicmodel.h5\n",
            "40/40 [==============================] - 47s 1s/step - loss: 0.2020 - dice_coef: 0.7980 - iou: 0.6643 - recall_1: 0.3271 - precision_1: 0.9791 - val_loss: 0.2579 - val_dice_coef: 0.7421 - val_iou: 0.5907 - val_recall_1: 0.3446 - val_precision_1: 0.9324 - lr: 1.0000e-04\n",
            "Epoch 30/150\n",
            "40/40 [==============================] - ETA: 0s - loss: 0.1987 - dice_coef: 0.8013 - iou: 0.6688 - recall_1: 0.3277 - precision_1: 0.9799\n",
            "Epoch 30: val_loss did not improve from 0.25794\n",
            "40/40 [==============================] - 44s 1s/step - loss: 0.1987 - dice_coef: 0.8013 - iou: 0.6688 - recall_1: 0.3277 - precision_1: 0.9799 - val_loss: 0.2692 - val_dice_coef: 0.7308 - val_iou: 0.5765 - val_recall_1: 0.3110 - val_precision_1: 0.9530 - lr: 1.0000e-04\n",
            "Epoch 31/150\n",
            "40/40 [==============================] - ETA: 0s - loss: 0.1978 - dice_coef: 0.8022 - iou: 0.6701 - recall_1: 0.3278 - precision_1: 0.9795\n",
            "Epoch 31: val_loss did not improve from 0.25794\n",
            "40/40 [==============================] - 44s 1s/step - loss: 0.1978 - dice_coef: 0.8022 - iou: 0.6701 - recall_1: 0.3278 - precision_1: 0.9795 - val_loss: 0.2608 - val_dice_coef: 0.7392 - val_iou: 0.5871 - val_recall_1: 0.3123 - val_precision_1: 0.9565 - lr: 1.0000e-04\n",
            "Epoch 32/150\n",
            "40/40 [==============================] - ETA: 0s - loss: 0.1970 - dice_coef: 0.8030 - iou: 0.6712 - recall_1: 0.3273 - precision_1: 0.9794\n",
            "Epoch 32: val_loss did not improve from 0.25794\n",
            "40/40 [==============================] - 44s 1s/step - loss: 0.1970 - dice_coef: 0.8030 - iou: 0.6712 - recall_1: 0.3273 - precision_1: 0.9794 - val_loss: 0.2655 - val_dice_coef: 0.7345 - val_iou: 0.5812 - val_recall_1: 0.3037 - val_precision_1: 0.9573 - lr: 1.0000e-04\n",
            "Epoch 33/150\n",
            "40/40 [==============================] - ETA: 0s - loss: 0.1932 - dice_coef: 0.8068 - iou: 0.6765 - recall_1: 0.3280 - precision_1: 0.9807\n",
            "Epoch 33: val_loss did not improve from 0.25794\n",
            "40/40 [==============================] - 44s 1s/step - loss: 0.1932 - dice_coef: 0.8068 - iou: 0.6765 - recall_1: 0.3280 - precision_1: 0.9807 - val_loss: 0.2658 - val_dice_coef: 0.7342 - val_iou: 0.5808 - val_recall_1: 0.3102 - val_precision_1: 0.9506 - lr: 1.0000e-04\n",
            "Epoch 34/150\n",
            "40/40 [==============================] - ETA: 0s - loss: 0.1893 - dice_coef: 0.8107 - iou: 0.6820 - recall_1: 0.3272 - precision_1: 0.9823\n",
            "Epoch 34: val_loss did not improve from 0.25794\n",
            "40/40 [==============================] - 44s 1s/step - loss: 0.1893 - dice_coef: 0.8107 - iou: 0.6820 - recall_1: 0.3272 - precision_1: 0.9823 - val_loss: 0.2602 - val_dice_coef: 0.7398 - val_iou: 0.5878 - val_recall_1: 0.3259 - val_precision_1: 0.9464 - lr: 1.0000e-04\n",
            "Epoch 35/150\n",
            "40/40 [==============================] - ETA: 0s - loss: 0.1881 - dice_coef: 0.8119 - iou: 0.6837 - recall_1: 0.3265 - precision_1: 0.9826\n",
            "Epoch 35: val_loss improved from 0.25794 to 0.24930, saving model to /content/drive/MyDrive/forunet/files/fbasicmodel.h5\n",
            "40/40 [==============================] - 47s 1s/step - loss: 0.1881 - dice_coef: 0.8119 - iou: 0.6837 - recall_1: 0.3265 - precision_1: 0.9826 - val_loss: 0.2493 - val_dice_coef: 0.7507 - val_iou: 0.6017 - val_recall_1: 0.3484 - val_precision_1: 0.9390 - lr: 1.0000e-04\n",
            "Epoch 36/150\n",
            "40/40 [==============================] - ETA: 0s - loss: 0.1868 - dice_coef: 0.8132 - iou: 0.6854 - recall_1: 0.3261 - precision_1: 0.9829\n",
            "Epoch 36: val_loss did not improve from 0.24930\n",
            "40/40 [==============================] - 44s 1s/step - loss: 0.1868 - dice_coef: 0.8132 - iou: 0.6854 - recall_1: 0.3261 - precision_1: 0.9829 - val_loss: 0.2555 - val_dice_coef: 0.7445 - val_iou: 0.5937 - val_recall_1: 0.3348 - val_precision_1: 0.9383 - lr: 1.0000e-04\n",
            "Epoch 37/150\n",
            "40/40 [==============================] - ETA: 0s - loss: 0.1843 - dice_coef: 0.8157 - iou: 0.6890 - recall_1: 0.3265 - precision_1: 0.9835\n",
            "Epoch 37: val_loss did not improve from 0.24930\n",
            "40/40 [==============================] - 44s 1s/step - loss: 0.1843 - dice_coef: 0.8157 - iou: 0.6890 - recall_1: 0.3265 - precision_1: 0.9835 - val_loss: 0.2570 - val_dice_coef: 0.7430 - val_iou: 0.5918 - val_recall_1: 0.3308 - val_precision_1: 0.9430 - lr: 1.0000e-04\n",
            "Epoch 38/150\n",
            "40/40 [==============================] - ETA: 0s - loss: 0.1808 - dice_coef: 0.8192 - iou: 0.6940 - recall_1: 0.3266 - precision_1: 0.9847\n",
            "Epoch 38: val_loss did not improve from 0.24930\n",
            "40/40 [==============================] - 44s 1s/step - loss: 0.1808 - dice_coef: 0.8192 - iou: 0.6940 - recall_1: 0.3266 - precision_1: 0.9847 - val_loss: 0.2592 - val_dice_coef: 0.7408 - val_iou: 0.5891 - val_recall_1: 0.3301 - val_precision_1: 0.9461 - lr: 1.0000e-04\n",
            "Epoch 39/150\n",
            "40/40 [==============================] - ETA: 0s - loss: 0.1778 - dice_coef: 0.8222 - iou: 0.6983 - recall_1: 0.3268 - precision_1: 0.9857\n",
            "Epoch 39: val_loss did not improve from 0.24930\n",
            "40/40 [==============================] - 45s 1s/step - loss: 0.1778 - dice_coef: 0.8222 - iou: 0.6983 - recall_1: 0.3268 - precision_1: 0.9857 - val_loss: 0.2569 - val_dice_coef: 0.7431 - val_iou: 0.5919 - val_recall_1: 0.3222 - val_precision_1: 0.9493 - lr: 1.0000e-04\n",
            "Epoch 40/150\n",
            "40/40 [==============================] - ETA: 0s - loss: 0.1764 - dice_coef: 0.8236 - iou: 0.7004 - recall_1: 0.3274 - precision_1: 0.9858\n",
            "Epoch 40: val_loss did not improve from 0.24930\n",
            "40/40 [==============================] - 44s 1s/step - loss: 0.1764 - dice_coef: 0.8236 - iou: 0.7004 - recall_1: 0.3274 - precision_1: 0.9858 - val_loss: 0.2568 - val_dice_coef: 0.7432 - val_iou: 0.5920 - val_recall_1: 0.3090 - val_precision_1: 0.9540 - lr: 1.0000e-04\n",
            "Epoch 41/150\n",
            "40/40 [==============================] - ETA: 0s - loss: 0.1727 - dice_coef: 0.8273 - iou: 0.7057 - recall_1: 0.3267 - precision_1: 0.9873\n",
            "Epoch 41: val_loss did not improve from 0.24930\n",
            "40/40 [==============================] - 43s 1s/step - loss: 0.1727 - dice_coef: 0.8273 - iou: 0.7057 - recall_1: 0.3267 - precision_1: 0.9873 - val_loss: 0.2522 - val_dice_coef: 0.7478 - val_iou: 0.5979 - val_recall_1: 0.3260 - val_precision_1: 0.9468 - lr: 1.0000e-04\n",
            "Epoch 42/150\n",
            "40/40 [==============================] - ETA: 0s - loss: 0.1706 - dice_coef: 0.8294 - iou: 0.7088 - recall_1: 0.3267 - precision_1: 0.9878\n",
            "Epoch 42: val_loss did not improve from 0.24930\n",
            "40/40 [==============================] - 44s 1s/step - loss: 0.1706 - dice_coef: 0.8294 - iou: 0.7088 - recall_1: 0.3267 - precision_1: 0.9878 - val_loss: 0.2550 - val_dice_coef: 0.7450 - val_iou: 0.5943 - val_recall_1: 0.3197 - val_precision_1: 0.9517 - lr: 1.0000e-04\n",
            "Epoch 43/150\n",
            "40/40 [==============================] - ETA: 0s - loss: 0.1715 - dice_coef: 0.8285 - iou: 0.7075 - recall_1: 0.3279 - precision_1: 0.9868\n",
            "Epoch 43: val_loss did not improve from 0.24930\n",
            "40/40 [==============================] - 44s 1s/step - loss: 0.1715 - dice_coef: 0.8285 - iou: 0.7075 - recall_1: 0.3279 - precision_1: 0.9868 - val_loss: 0.2552 - val_dice_coef: 0.7448 - val_iou: 0.5940 - val_recall_1: 0.3143 - val_precision_1: 0.9529 - lr: 1.0000e-04\n",
            "Epoch 44/150\n",
            "40/40 [==============================] - ETA: 0s - loss: 0.1717 - dice_coef: 0.8283 - iou: 0.7072 - recall_1: 0.3271 - precision_1: 0.9868\n",
            "Epoch 44: val_loss did not improve from 0.24930\n",
            "40/40 [==============================] - 44s 1s/step - loss: 0.1717 - dice_coef: 0.8283 - iou: 0.7072 - recall_1: 0.3271 - precision_1: 0.9868 - val_loss: 0.2574 - val_dice_coef: 0.7426 - val_iou: 0.5913 - val_recall_1: 0.3110 - val_precision_1: 0.9556 - lr: 1.0000e-04\n",
            "Epoch 45/150\n",
            "40/40 [==============================] - ETA: 0s - loss: 0.1725 - dice_coef: 0.8275 - iou: 0.7060 - recall_1: 0.3258 - precision_1: 0.9864\n",
            "Epoch 45: val_loss did not improve from 0.24930\n",
            "40/40 [==============================] - 43s 1s/step - loss: 0.1725 - dice_coef: 0.8275 - iou: 0.7060 - recall_1: 0.3258 - precision_1: 0.9864 - val_loss: 0.2661 - val_dice_coef: 0.7339 - val_iou: 0.5805 - val_recall_1: 0.3075 - val_precision_1: 0.9564 - lr: 1.0000e-04\n",
            "Epoch 46/150\n",
            "40/40 [==============================] - ETA: 0s - loss: 0.1740 - dice_coef: 0.8260 - iou: 0.7039 - recall_1: 0.3269 - precision_1: 0.9852\n",
            "Epoch 46: val_loss did not improve from 0.24930\n",
            "40/40 [==============================] - 43s 1s/step - loss: 0.1740 - dice_coef: 0.8260 - iou: 0.7039 - recall_1: 0.3269 - precision_1: 0.9852 - val_loss: 0.2600 - val_dice_coef: 0.7400 - val_iou: 0.5881 - val_recall_1: 0.3207 - val_precision_1: 0.9414 - lr: 1.0000e-04\n",
            "Epoch 47/150\n",
            "40/40 [==============================] - ETA: 0s - loss: 0.1766 - dice_coef: 0.8234 - iou: 0.7000 - recall_1: 0.3276 - precision_1: 0.9834\n",
            "Epoch 47: val_loss did not improve from 0.24930\n",
            "40/40 [==============================] - 44s 1s/step - loss: 0.1766 - dice_coef: 0.8234 - iou: 0.7000 - recall_1: 0.3276 - precision_1: 0.9834 - val_loss: 0.2568 - val_dice_coef: 0.7432 - val_iou: 0.5922 - val_recall_1: 0.3089 - val_precision_1: 0.9542 - lr: 1.0000e-04\n",
            "Epoch 48/150\n",
            "40/40 [==============================] - ETA: 0s - loss: 0.1774 - dice_coef: 0.8226 - iou: 0.6990 - recall_1: 0.3283 - precision_1: 0.9826\n",
            "Epoch 48: val_loss did not improve from 0.24930\n",
            "40/40 [==============================] - 43s 1s/step - loss: 0.1774 - dice_coef: 0.8226 - iou: 0.6990 - recall_1: 0.3283 - precision_1: 0.9826 - val_loss: 0.2676 - val_dice_coef: 0.7324 - val_iou: 0.5785 - val_recall_1: 0.2929 - val_precision_1: 0.9599 - lr: 1.0000e-04\n",
            "Epoch 49/150\n",
            "40/40 [==============================] - ETA: 0s - loss: 0.1760 - dice_coef: 0.8240 - iou: 0.7010 - recall_1: 0.3276 - precision_1: 0.9833\n",
            "Epoch 49: val_loss did not improve from 0.24930\n",
            "40/40 [==============================] - 43s 1s/step - loss: 0.1760 - dice_coef: 0.8240 - iou: 0.7010 - recall_1: 0.3276 - precision_1: 0.9833 - val_loss: 0.2608 - val_dice_coef: 0.7392 - val_iou: 0.5869 - val_recall_1: 0.3146 - val_precision_1: 0.9400 - lr: 1.0000e-04\n",
            "Epoch 50/150\n",
            "40/40 [==============================] - ETA: 0s - loss: 0.1738 - dice_coef: 0.8262 - iou: 0.7042 - recall_1: 0.3263 - precision_1: 0.9848\n",
            "Epoch 50: val_loss did not improve from 0.24930\n",
            "40/40 [==============================] - 44s 1s/step - loss: 0.1738 - dice_coef: 0.8262 - iou: 0.7042 - recall_1: 0.3263 - precision_1: 0.9848 - val_loss: 0.2553 - val_dice_coef: 0.7447 - val_iou: 0.5941 - val_recall_1: 0.3099 - val_precision_1: 0.9547 - lr: 1.0000e-04\n",
            "Epoch 51/150\n",
            "40/40 [==============================] - ETA: 0s - loss: 0.1685 - dice_coef: 0.8315 - iou: 0.7118 - recall_1: 0.3271 - precision_1: 0.9868\n",
            "Epoch 51: val_loss improved from 0.24930 to 0.24785, saving model to /content/drive/MyDrive/forunet/files/fbasicmodel.h5\n",
            "40/40 [==============================] - 47s 1s/step - loss: 0.1685 - dice_coef: 0.8315 - iou: 0.7118 - recall_1: 0.3271 - precision_1: 0.9868 - val_loss: 0.2479 - val_dice_coef: 0.7521 - val_iou: 0.6035 - val_recall_1: 0.3210 - val_precision_1: 0.9500 - lr: 1.0000e-04\n",
            "Epoch 52/150\n",
            "40/40 [==============================] - ETA: 0s - loss: 0.1640 - dice_coef: 0.8360 - iou: 0.7185 - recall_1: 0.3276 - precision_1: 0.9884\n",
            "Epoch 52: val_loss improved from 0.24785 to 0.24631, saving model to /content/drive/MyDrive/forunet/files/fbasicmodel.h5\n",
            "40/40 [==============================] - 48s 1s/step - loss: 0.1640 - dice_coef: 0.8360 - iou: 0.7185 - recall_1: 0.3276 - precision_1: 0.9884 - val_loss: 0.2463 - val_dice_coef: 0.7537 - val_iou: 0.6054 - val_recall_1: 0.3238 - val_precision_1: 0.9455 - lr: 1.0000e-04\n",
            "Epoch 53/150\n",
            "40/40 [==============================] - ETA: 0s - loss: 0.1618 - dice_coef: 0.8382 - iou: 0.7217 - recall_1: 0.3278 - precision_1: 0.9890\n",
            "Epoch 53: val_loss did not improve from 0.24631\n",
            "40/40 [==============================] - 44s 1s/step - loss: 0.1618 - dice_coef: 0.8382 - iou: 0.7217 - recall_1: 0.3278 - precision_1: 0.9890 - val_loss: 0.2521 - val_dice_coef: 0.7479 - val_iou: 0.5980 - val_recall_1: 0.3095 - val_precision_1: 0.9567 - lr: 1.0000e-04\n",
            "Epoch 54/150\n",
            "40/40 [==============================] - ETA: 0s - loss: 0.1615 - dice_coef: 0.8385 - iou: 0.7222 - recall_1: 0.3273 - precision_1: 0.9891\n",
            "Epoch 54: val_loss did not improve from 0.24631\n",
            "40/40 [==============================] - 44s 1s/step - loss: 0.1615 - dice_coef: 0.8385 - iou: 0.7222 - recall_1: 0.3273 - precision_1: 0.9891 - val_loss: 0.2538 - val_dice_coef: 0.7462 - val_iou: 0.5959 - val_recall_1: 0.3196 - val_precision_1: 0.9439 - lr: 1.0000e-04\n",
            "Epoch 55/150\n",
            "40/40 [==============================] - ETA: 0s - loss: 0.1622 - dice_coef: 0.8378 - iou: 0.7211 - recall_1: 0.3270 - precision_1: 0.9888\n",
            "Epoch 55: val_loss did not improve from 0.24631\n",
            "40/40 [==============================] - 44s 1s/step - loss: 0.1622 - dice_coef: 0.8378 - iou: 0.7211 - recall_1: 0.3270 - precision_1: 0.9888 - val_loss: 0.2636 - val_dice_coef: 0.7364 - val_iou: 0.5835 - val_recall_1: 0.3137 - val_precision_1: 0.9415 - lr: 1.0000e-04\n",
            "Epoch 56/150\n",
            "40/40 [==============================] - ETA: 0s - loss: 0.1636 - dice_coef: 0.8364 - iou: 0.7191 - recall_1: 0.3276 - precision_1: 0.9879\n",
            "Epoch 56: val_loss did not improve from 0.24631\n",
            "40/40 [==============================] - 44s 1s/step - loss: 0.1636 - dice_coef: 0.8364 - iou: 0.7191 - recall_1: 0.3276 - precision_1: 0.9879 - val_loss: 0.2646 - val_dice_coef: 0.7354 - val_iou: 0.5821 - val_recall_1: 0.3148 - val_precision_1: 0.9402 - lr: 1.0000e-04\n",
            "Epoch 57/150\n",
            "40/40 [==============================] - ETA: 0s - loss: 0.1662 - dice_coef: 0.8338 - iou: 0.7152 - recall_1: 0.3278 - precision_1: 0.9865\n",
            "Epoch 57: val_loss improved from 0.24631 to 0.24526, saving model to /content/drive/MyDrive/forunet/files/fbasicmodel.h5\n",
            "40/40 [==============================] - 46s 1s/step - loss: 0.1662 - dice_coef: 0.8338 - iou: 0.7152 - recall_1: 0.3278 - precision_1: 0.9865 - val_loss: 0.2453 - val_dice_coef: 0.7547 - val_iou: 0.6069 - val_recall_1: 0.3253 - val_precision_1: 0.9454 - lr: 1.0000e-04\n",
            "Epoch 58/150\n",
            "40/40 [==============================] - ETA: 0s - loss: 0.1637 - dice_coef: 0.8363 - iou: 0.7189 - recall_1: 0.3275 - precision_1: 0.9876\n",
            "Epoch 58: val_loss improved from 0.24526 to 0.24341, saving model to /content/drive/MyDrive/forunet/files/fbasicmodel.h5\n",
            "40/40 [==============================] - 48s 1s/step - loss: 0.1637 - dice_coef: 0.8363 - iou: 0.7189 - recall_1: 0.3275 - precision_1: 0.9876 - val_loss: 0.2434 - val_dice_coef: 0.7566 - val_iou: 0.6092 - val_recall_1: 0.3223 - val_precision_1: 0.9516 - lr: 1.0000e-04\n",
            "Epoch 59/150\n",
            "40/40 [==============================] - ETA: 0s - loss: 0.1584 - dice_coef: 0.8416 - iou: 0.7267 - recall_1: 0.3277 - precision_1: 0.9896\n",
            "Epoch 59: val_loss did not improve from 0.24341\n",
            "40/40 [==============================] - 44s 1s/step - loss: 0.1584 - dice_coef: 0.8416 - iou: 0.7267 - recall_1: 0.3277 - precision_1: 0.9896 - val_loss: 0.2508 - val_dice_coef: 0.7492 - val_iou: 0.5997 - val_recall_1: 0.3159 - val_precision_1: 0.9443 - lr: 1.0000e-04\n",
            "Epoch 60/150\n",
            "40/40 [==============================] - ETA: 0s - loss: 0.1557 - dice_coef: 0.8443 - iou: 0.7308 - recall_1: 0.3275 - precision_1: 0.9907\n",
            "Epoch 60: val_loss did not improve from 0.24341\n",
            "40/40 [==============================] - 43s 1s/step - loss: 0.1557 - dice_coef: 0.8443 - iou: 0.7308 - recall_1: 0.3275 - precision_1: 0.9907 - val_loss: 0.2503 - val_dice_coef: 0.7497 - val_iou: 0.6002 - val_recall_1: 0.3193 - val_precision_1: 0.9412 - lr: 1.0000e-04\n",
            "Epoch 61/150\n",
            "40/40 [==============================] - ETA: 0s - loss: 0.1545 - dice_coef: 0.8455 - iou: 0.7326 - recall_1: 0.3281 - precision_1: 0.9908\n",
            "Epoch 61: val_loss did not improve from 0.24341\n",
            "40/40 [==============================] - 44s 1s/step - loss: 0.1545 - dice_coef: 0.8455 - iou: 0.7326 - recall_1: 0.3281 - precision_1: 0.9908 - val_loss: 0.2489 - val_dice_coef: 0.7511 - val_iou: 0.6021 - val_recall_1: 0.3199 - val_precision_1: 0.9441 - lr: 1.0000e-04\n",
            "Epoch 62/150\n",
            "40/40 [==============================] - ETA: 0s - loss: 0.1544 - dice_coef: 0.8456 - iou: 0.7327 - recall_1: 0.3279 - precision_1: 0.9908\n",
            "Epoch 62: val_loss did not improve from 0.24341\n",
            "40/40 [==============================] - 45s 1s/step - loss: 0.1544 - dice_coef: 0.8456 - iou: 0.7327 - recall_1: 0.3279 - precision_1: 0.9908 - val_loss: 0.2487 - val_dice_coef: 0.7513 - val_iou: 0.6023 - val_recall_1: 0.3201 - val_precision_1: 0.9460 - lr: 1.0000e-04\n",
            "Epoch 63/150\n",
            "40/40 [==============================] - ETA: 0s - loss: 0.1537 - dice_coef: 0.8463 - iou: 0.7338 - recall_1: 0.3278 - precision_1: 0.9911\n",
            "Epoch 63: val_loss did not improve from 0.24341\n",
            "40/40 [==============================] - 43s 1s/step - loss: 0.1537 - dice_coef: 0.8463 - iou: 0.7338 - recall_1: 0.3278 - precision_1: 0.9911 - val_loss: 0.2580 - val_dice_coef: 0.7420 - val_iou: 0.5904 - val_recall_1: 0.3108 - val_precision_1: 0.9481 - lr: 1.0000e-04\n",
            "Epoch 64/150\n",
            "40/40 [==============================] - ETA: 0s - loss: 0.1534 - dice_coef: 0.8466 - iou: 0.7342 - recall_1: 0.3278 - precision_1: 0.9910\n",
            "Epoch 64: val_loss did not improve from 0.24341\n",
            "40/40 [==============================] - 44s 1s/step - loss: 0.1534 - dice_coef: 0.8466 - iou: 0.7342 - recall_1: 0.3278 - precision_1: 0.9910 - val_loss: 0.2529 - val_dice_coef: 0.7471 - val_iou: 0.5971 - val_recall_1: 0.3334 - val_precision_1: 0.9298 - lr: 1.0000e-04\n",
            "Epoch 65/150\n",
            "40/40 [==============================] - ETA: 0s - loss: 0.1518 - dice_coef: 0.8482 - iou: 0.7366 - recall_1: 0.3283 - precision_1: 0.9914\n",
            "Epoch 65: val_loss did not improve from 0.24341\n",
            "40/40 [==============================] - 44s 1s/step - loss: 0.1518 - dice_coef: 0.8482 - iou: 0.7366 - recall_1: 0.3283 - precision_1: 0.9914 - val_loss: 0.2478 - val_dice_coef: 0.7522 - val_iou: 0.6034 - val_recall_1: 0.3269 - val_precision_1: 0.9380 - lr: 1.0000e-04\n",
            "Epoch 66/150\n",
            "40/40 [==============================] - ETA: 0s - loss: 0.1494 - dice_coef: 0.8506 - iou: 0.7402 - recall_1: 0.3281 - precision_1: 0.9924\n",
            "Epoch 66: val_loss did not improve from 0.24341\n",
            "40/40 [==============================] - 44s 1s/step - loss: 0.1494 - dice_coef: 0.8506 - iou: 0.7402 - recall_1: 0.3281 - precision_1: 0.9924 - val_loss: 0.2496 - val_dice_coef: 0.7504 - val_iou: 0.6011 - val_recall_1: 0.3114 - val_precision_1: 0.9515 - lr: 1.0000e-04\n",
            "Epoch 67/150\n",
            "40/40 [==============================] - ETA: 0s - loss: 0.1479 - dice_coef: 0.8521 - iou: 0.7425 - recall_1: 0.3276 - precision_1: 0.9928\n",
            "Epoch 67: val_loss did not improve from 0.24341\n",
            "40/40 [==============================] - 44s 1s/step - loss: 0.1479 - dice_coef: 0.8521 - iou: 0.7425 - recall_1: 0.3276 - precision_1: 0.9928 - val_loss: 0.2486 - val_dice_coef: 0.7514 - val_iou: 0.6024 - val_recall_1: 0.3080 - val_precision_1: 0.9538 - lr: 1.0000e-04\n",
            "Epoch 68/150\n",
            "40/40 [==============================] - ETA: 0s - loss: 0.1471 - dice_coef: 0.8529 - iou: 0.7437 - recall_1: 0.3284 - precision_1: 0.9929\n",
            "Epoch 68: val_loss did not improve from 0.24341\n",
            "40/40 [==============================] - 44s 1s/step - loss: 0.1471 - dice_coef: 0.8529 - iou: 0.7437 - recall_1: 0.3284 - precision_1: 0.9929 - val_loss: 0.2520 - val_dice_coef: 0.7480 - val_iou: 0.5981 - val_recall_1: 0.2985 - val_precision_1: 0.9595 - lr: 1.0000e-04\n",
            "Epoch 69/150\n",
            "40/40 [==============================] - ETA: 0s - loss: 0.1465 - dice_coef: 0.8535 - iou: 0.7447 - recall_1: 0.3291 - precision_1: 0.9929\n",
            "Epoch 69: val_loss did not improve from 0.24341\n",
            "40/40 [==============================] - 44s 1s/step - loss: 0.1465 - dice_coef: 0.8535 - iou: 0.7447 - recall_1: 0.3291 - precision_1: 0.9929 - val_loss: 0.2544 - val_dice_coef: 0.7456 - val_iou: 0.5950 - val_recall_1: 0.2984 - val_precision_1: 0.9562 - lr: 1.0000e-04\n",
            "Epoch 70/150\n",
            "40/40 [==============================] - ETA: 0s - loss: 0.1473 - dice_coef: 0.8527 - iou: 0.7434 - recall_1: 0.3283 - precision_1: 0.9926\n",
            "Epoch 70: val_loss did not improve from 0.24341\n",
            "40/40 [==============================] - 44s 1s/step - loss: 0.1473 - dice_coef: 0.8527 - iou: 0.7434 - recall_1: 0.3283 - precision_1: 0.9926 - val_loss: 0.2540 - val_dice_coef: 0.7460 - val_iou: 0.5955 - val_recall_1: 0.3157 - val_precision_1: 0.9426 - lr: 1.0000e-04\n",
            "Epoch 71/150\n",
            "40/40 [==============================] - ETA: 0s - loss: 0.1480 - dice_coef: 0.8520 - iou: 0.7424 - recall_1: 0.3278 - precision_1: 0.9923\n",
            "Epoch 71: val_loss did not improve from 0.24341\n",
            "40/40 [==============================] - 44s 1s/step - loss: 0.1480 - dice_coef: 0.8520 - iou: 0.7424 - recall_1: 0.3278 - precision_1: 0.9923 - val_loss: 0.2581 - val_dice_coef: 0.7419 - val_iou: 0.5903 - val_recall_1: 0.3110 - val_precision_1: 0.9457 - lr: 1.0000e-04\n",
            "Epoch 72/150\n",
            "40/40 [==============================] - ETA: 0s - loss: 0.1480 - dice_coef: 0.8520 - iou: 0.7423 - recall_1: 0.3283 - precision_1: 0.9922\n",
            "Epoch 72: val_loss did not improve from 0.24341\n",
            "40/40 [==============================] - 44s 1s/step - loss: 0.1480 - dice_coef: 0.8520 - iou: 0.7423 - recall_1: 0.3283 - precision_1: 0.9922 - val_loss: 0.2550 - val_dice_coef: 0.7450 - val_iou: 0.5942 - val_recall_1: 0.2995 - val_precision_1: 0.9531 - lr: 1.0000e-04\n",
            "Epoch 73/150\n",
            "40/40 [==============================] - ETA: 0s - loss: 0.1469 - dice_coef: 0.8531 - iou: 0.7440 - recall_1: 0.3286 - precision_1: 0.9925\n",
            "Epoch 73: val_loss did not improve from 0.24341\n",
            "40/40 [==============================] - 44s 1s/step - loss: 0.1469 - dice_coef: 0.8531 - iou: 0.7440 - recall_1: 0.3286 - precision_1: 0.9925 - val_loss: 0.2504 - val_dice_coef: 0.7496 - val_iou: 0.6002 - val_recall_1: 0.3015 - val_precision_1: 0.9590 - lr: 1.0000e-04\n",
            "Epoch 74/150\n",
            "40/40 [==============================] - ETA: 0s - loss: 0.1450 - dice_coef: 0.8550 - iou: 0.7469 - recall_1: 0.3282 - precision_1: 0.9931\n",
            "Epoch 74: val_loss did not improve from 0.24341\n",
            "40/40 [==============================] - 44s 1s/step - loss: 0.1450 - dice_coef: 0.8550 - iou: 0.7469 - recall_1: 0.3282 - precision_1: 0.9931 - val_loss: 0.2443 - val_dice_coef: 0.7557 - val_iou: 0.6080 - val_recall_1: 0.3158 - val_precision_1: 0.9572 - lr: 1.0000e-04\n",
            "Epoch 75/150\n",
            "40/40 [==============================] - ETA: 0s - loss: 0.1432 - dice_coef: 0.8568 - iou: 0.7496 - recall_1: 0.3283 - precision_1: 0.9937\n",
            "Epoch 75: val_loss did not improve from 0.24341\n",
            "40/40 [==============================] - 44s 1s/step - loss: 0.1432 - dice_coef: 0.8568 - iou: 0.7496 - recall_1: 0.3283 - precision_1: 0.9937 - val_loss: 0.2475 - val_dice_coef: 0.7525 - val_iou: 0.6038 - val_recall_1: 0.3121 - val_precision_1: 0.9484 - lr: 1.0000e-04\n",
            "Epoch 76/150\n",
            "40/40 [==============================] - ETA: 0s - loss: 0.1413 - dice_coef: 0.8587 - iou: 0.7526 - recall_1: 0.3292 - precision_1: 0.9943\n",
            "Epoch 76: val_loss did not improve from 0.24341\n",
            "40/40 [==============================] - 43s 1s/step - loss: 0.1413 - dice_coef: 0.8587 - iou: 0.7526 - recall_1: 0.3292 - precision_1: 0.9943 - val_loss: 0.2624 - val_dice_coef: 0.7376 - val_iou: 0.5850 - val_recall_1: 0.2925 - val_precision_1: 0.9546 - lr: 1.0000e-04\n",
            "Epoch 77/150\n",
            "40/40 [==============================] - ETA: 0s - loss: 0.1401 - dice_coef: 0.8599 - iou: 0.7544 - recall_1: 0.3286 - precision_1: 0.9946\n",
            "Epoch 77: val_loss did not improve from 0.24341\n",
            "40/40 [==============================] - 44s 1s/step - loss: 0.1401 - dice_coef: 0.8599 - iou: 0.7544 - recall_1: 0.3286 - precision_1: 0.9946 - val_loss: 0.2493 - val_dice_coef: 0.7507 - val_iou: 0.6015 - val_recall_1: 0.3129 - val_precision_1: 0.9543 - lr: 1.0000e-04\n",
            "Epoch 78/150\n",
            "40/40 [==============================] - ETA: 0s - loss: 0.1391 - dice_coef: 0.8609 - iou: 0.7559 - recall_1: 0.3278 - precision_1: 0.9949\n",
            "Epoch 78: val_loss improved from 0.24341 to 0.24117, saving model to /content/drive/MyDrive/forunet/files/fbasicmodel.h5\n",
            "40/40 [==============================] - 47s 1s/step - loss: 0.1391 - dice_coef: 0.8609 - iou: 0.7559 - recall_1: 0.3278 - precision_1: 0.9949 - val_loss: 0.2412 - val_dice_coef: 0.7588 - val_iou: 0.6120 - val_recall_1: 0.3367 - val_precision_1: 0.9401 - lr: 1.0000e-04\n",
            "Epoch 79/150\n",
            "40/40 [==============================] - ETA: 0s - loss: 0.1387 - dice_coef: 0.8613 - iou: 0.7565 - recall_1: 0.3285 - precision_1: 0.9949\n",
            "Epoch 79: val_loss did not improve from 0.24117\n",
            "40/40 [==============================] - 45s 1s/step - loss: 0.1387 - dice_coef: 0.8613 - iou: 0.7565 - recall_1: 0.3285 - precision_1: 0.9949 - val_loss: 0.2465 - val_dice_coef: 0.7535 - val_iou: 0.6051 - val_recall_1: 0.3136 - val_precision_1: 0.9479 - lr: 1.0000e-04\n",
            "Epoch 80/150\n",
            "40/40 [==============================] - ETA: 0s - loss: 0.1387 - dice_coef: 0.8613 - iou: 0.7566 - recall_1: 0.3293 - precision_1: 0.9947\n",
            "Epoch 80: val_loss did not improve from 0.24117\n",
            "40/40 [==============================] - 44s 1s/step - loss: 0.1387 - dice_coef: 0.8613 - iou: 0.7566 - recall_1: 0.3293 - precision_1: 0.9947 - val_loss: 0.2499 - val_dice_coef: 0.7501 - val_iou: 0.6008 - val_recall_1: 0.3018 - val_precision_1: 0.9556 - lr: 1.0000e-04\n",
            "Epoch 81/150\n",
            "40/40 [==============================] - ETA: 0s - loss: 0.1385 - dice_coef: 0.8615 - iou: 0.7569 - recall_1: 0.3289 - precision_1: 0.9948\n",
            "Epoch 81: val_loss did not improve from 0.24117\n",
            "40/40 [==============================] - 44s 1s/step - loss: 0.1385 - dice_coef: 0.8615 - iou: 0.7569 - recall_1: 0.3289 - precision_1: 0.9948 - val_loss: 0.2497 - val_dice_coef: 0.7503 - val_iou: 0.6010 - val_recall_1: 0.3100 - val_precision_1: 0.9541 - lr: 1.0000e-04\n",
            "Epoch 82/150\n",
            "40/40 [==============================] - ETA: 0s - loss: 0.1387 - dice_coef: 0.8613 - iou: 0.7565 - recall_1: 0.3282 - precision_1: 0.9947\n",
            "Epoch 82: val_loss did not improve from 0.24117\n",
            "40/40 [==============================] - 43s 1s/step - loss: 0.1387 - dice_coef: 0.8613 - iou: 0.7565 - recall_1: 0.3282 - precision_1: 0.9947 - val_loss: 0.2484 - val_dice_coef: 0.7516 - val_iou: 0.6027 - val_recall_1: 0.3252 - val_precision_1: 0.9433 - lr: 1.0000e-04\n",
            "Epoch 83/150\n",
            "40/40 [==============================] - ETA: 0s - loss: 0.1396 - dice_coef: 0.8604 - iou: 0.7551 - recall_1: 0.3292 - precision_1: 0.9941\n",
            "Epoch 83: val_loss did not improve from 0.24117\n",
            "40/40 [==============================] - 44s 1s/step - loss: 0.1396 - dice_coef: 0.8604 - iou: 0.7551 - recall_1: 0.3292 - precision_1: 0.9941 - val_loss: 0.2490 - val_dice_coef: 0.7510 - val_iou: 0.6019 - val_recall_1: 0.3238 - val_precision_1: 0.9451 - lr: 1.0000e-04\n",
            "Epoch 84/150\n",
            "40/40 [==============================] - ETA: 0s - loss: 0.1405 - dice_coef: 0.8595 - iou: 0.7538 - recall_1: 0.3289 - precision_1: 0.9938\n",
            "Epoch 84: val_loss did not improve from 0.24117\n",
            "40/40 [==============================] - 43s 1s/step - loss: 0.1405 - dice_coef: 0.8595 - iou: 0.7538 - recall_1: 0.3289 - precision_1: 0.9938 - val_loss: 0.2488 - val_dice_coef: 0.7512 - val_iou: 0.6022 - val_recall_1: 0.3249 - val_precision_1: 0.9478 - lr: 1.0000e-04\n",
            "Epoch 85/150\n",
            "40/40 [==============================] - ETA: 0s - loss: 0.1404 - dice_coef: 0.8596 - iou: 0.7539 - recall_1: 0.3283 - precision_1: 0.9939\n",
            "Epoch 85: val_loss did not improve from 0.24117\n",
            "40/40 [==============================] - 43s 1s/step - loss: 0.1404 - dice_coef: 0.8596 - iou: 0.7539 - recall_1: 0.3283 - precision_1: 0.9939 - val_loss: 0.2471 - val_dice_coef: 0.7529 - val_iou: 0.6043 - val_recall_1: 0.3159 - val_precision_1: 0.9467 - lr: 1.0000e-04\n",
            "Epoch 86/150\n",
            "40/40 [==============================] - ETA: 0s - loss: 0.1405 - dice_coef: 0.8595 - iou: 0.7538 - recall_1: 0.3292 - precision_1: 0.9937\n",
            "Epoch 86: val_loss did not improve from 0.24117\n",
            "40/40 [==============================] - 45s 1s/step - loss: 0.1405 - dice_coef: 0.8595 - iou: 0.7538 - recall_1: 0.3292 - precision_1: 0.9937 - val_loss: 0.2502 - val_dice_coef: 0.7498 - val_iou: 0.6005 - val_recall_1: 0.3062 - val_precision_1: 0.9503 - lr: 1.0000e-04\n",
            "Epoch 87/150\n",
            "40/40 [==============================] - ETA: 0s - loss: 0.1393 - dice_coef: 0.8607 - iou: 0.7556 - recall_1: 0.3296 - precision_1: 0.9940\n",
            "Epoch 87: val_loss did not improve from 0.24117\n",
            "40/40 [==============================] - 45s 1s/step - loss: 0.1393 - dice_coef: 0.8607 - iou: 0.7556 - recall_1: 0.3296 - precision_1: 0.9940 - val_loss: 0.2477 - val_dice_coef: 0.7523 - val_iou: 0.6036 - val_recall_1: 0.3176 - val_precision_1: 0.9474 - lr: 1.0000e-04\n",
            "Epoch 88/150\n",
            "40/40 [==============================] - ETA: 0s - loss: 0.1378 - dice_coef: 0.8622 - iou: 0.7579 - recall_1: 0.3287 - precision_1: 0.9946\n",
            "Epoch 88: val_loss did not improve from 0.24117\n",
            "40/40 [==============================] - 43s 1s/step - loss: 0.1378 - dice_coef: 0.8622 - iou: 0.7579 - recall_1: 0.3287 - precision_1: 0.9946 - val_loss: 0.2461 - val_dice_coef: 0.7539 - val_iou: 0.6056 - val_recall_1: 0.3180 - val_precision_1: 0.9490 - lr: 1.0000e-04\n",
            "Epoch 89/150\n",
            "40/40 [==============================] - ETA: 0s - loss: 0.1361 - dice_coef: 0.8639 - iou: 0.7606 - recall_1: 0.3291 - precision_1: 0.9951\n",
            "Epoch 89: val_loss did not improve from 0.24117\n",
            "40/40 [==============================] - 43s 1s/step - loss: 0.1361 - dice_coef: 0.8639 - iou: 0.7606 - recall_1: 0.3291 - precision_1: 0.9951 - val_loss: 0.2528 - val_dice_coef: 0.7472 - val_iou: 0.5970 - val_recall_1: 0.3003 - val_precision_1: 0.9602 - lr: 1.0000e-04\n",
            "Epoch 90/150\n",
            "40/40 [==============================] - ETA: 0s - loss: 0.1353 - dice_coef: 0.8647 - iou: 0.7618 - recall_1: 0.3292 - precision_1: 0.9953\n",
            "Epoch 90: val_loss did not improve from 0.24117\n",
            "40/40 [==============================] - 43s 1s/step - loss: 0.1353 - dice_coef: 0.8647 - iou: 0.7618 - recall_1: 0.3292 - precision_1: 0.9953 - val_loss: 0.2449 - val_dice_coef: 0.7551 - val_iou: 0.6073 - val_recall_1: 0.3115 - val_precision_1: 0.9546 - lr: 1.0000e-04\n",
            "Epoch 91/150\n",
            "40/40 [==============================] - ETA: 0s - loss: 0.1354 - dice_coef: 0.8646 - iou: 0.7616 - recall_1: 0.3292 - precision_1: 0.9952\n",
            "Epoch 91: val_loss did not improve from 0.24117\n",
            "40/40 [==============================] - 43s 1s/step - loss: 0.1354 - dice_coef: 0.8646 - iou: 0.7616 - recall_1: 0.3292 - precision_1: 0.9952 - val_loss: 0.2435 - val_dice_coef: 0.7565 - val_iou: 0.6090 - val_recall_1: 0.3153 - val_precision_1: 0.9516 - lr: 1.0000e-04\n",
            "Epoch 92/150\n",
            "40/40 [==============================] - ETA: 0s - loss: 0.1368 - dice_coef: 0.8632 - iou: 0.7595 - recall_1: 0.3291 - precision_1: 0.9947\n",
            "Epoch 92: val_loss did not improve from 0.24117\n",
            "40/40 [==============================] - 44s 1s/step - loss: 0.1368 - dice_coef: 0.8632 - iou: 0.7595 - recall_1: 0.3291 - precision_1: 0.9947 - val_loss: 0.2525 - val_dice_coef: 0.7475 - val_iou: 0.5976 - val_recall_1: 0.3026 - val_precision_1: 0.9592 - lr: 1.0000e-04\n",
            "Epoch 93/150\n",
            "40/40 [==============================] - ETA: 0s - loss: 0.1388 - dice_coef: 0.8612 - iou: 0.7564 - recall_1: 0.3290 - precision_1: 0.9940\n",
            "Epoch 93: val_loss did not improve from 0.24117\n",
            "40/40 [==============================] - 43s 1s/step - loss: 0.1388 - dice_coef: 0.8612 - iou: 0.7564 - recall_1: 0.3290 - precision_1: 0.9940 - val_loss: 0.2619 - val_dice_coef: 0.7381 - val_iou: 0.5857 - val_recall_1: 0.2889 - val_precision_1: 0.9662 - lr: 1.0000e-04\n",
            "Epoch 94/150\n",
            "40/40 [==============================] - ETA: 0s - loss: 0.1396 - dice_coef: 0.8604 - iou: 0.7551 - recall_1: 0.3293 - precision_1: 0.9936\n",
            "Epoch 94: val_loss did not improve from 0.24117\n",
            "40/40 [==============================] - 44s 1s/step - loss: 0.1396 - dice_coef: 0.8604 - iou: 0.7551 - recall_1: 0.3293 - precision_1: 0.9936 - val_loss: 0.2480 - val_dice_coef: 0.7520 - val_iou: 0.6032 - val_recall_1: 0.3101 - val_precision_1: 0.9541 - lr: 1.0000e-04\n",
            "Epoch 95/150\n",
            "40/40 [==============================] - ETA: 0s - loss: 0.1386 - dice_coef: 0.8614 - iou: 0.7567 - recall_1: 0.3297 - precision_1: 0.9939\n",
            "Epoch 95: val_loss did not improve from 0.24117\n",
            "40/40 [==============================] - 45s 1s/step - loss: 0.1386 - dice_coef: 0.8614 - iou: 0.7567 - recall_1: 0.3297 - precision_1: 0.9939 - val_loss: 0.2475 - val_dice_coef: 0.7525 - val_iou: 0.6038 - val_recall_1: 0.3118 - val_precision_1: 0.9532 - lr: 1.0000e-04\n",
            "Epoch 96/150\n",
            "40/40 [==============================] - ETA: 0s - loss: 0.1369 - dice_coef: 0.8631 - iou: 0.7593 - recall_1: 0.3292 - precision_1: 0.9946\n",
            "Epoch 96: val_loss did not improve from 0.24117\n",
            "40/40 [==============================] - 43s 1s/step - loss: 0.1369 - dice_coef: 0.8631 - iou: 0.7593 - recall_1: 0.3292 - precision_1: 0.9946 - val_loss: 0.2442 - val_dice_coef: 0.7558 - val_iou: 0.6081 - val_recall_1: 0.3145 - val_precision_1: 0.9563 - lr: 1.0000e-04\n",
            "Epoch 97/150\n",
            "40/40 [==============================] - ETA: 0s - loss: 0.1357 - dice_coef: 0.8643 - iou: 0.7612 - recall_1: 0.3291 - precision_1: 0.9951\n",
            "Epoch 97: val_loss did not improve from 0.24117\n",
            "40/40 [==============================] - 45s 1s/step - loss: 0.1357 - dice_coef: 0.8643 - iou: 0.7612 - recall_1: 0.3291 - precision_1: 0.9951 - val_loss: 0.2448 - val_dice_coef: 0.7552 - val_iou: 0.6073 - val_recall_1: 0.3180 - val_precision_1: 0.9511 - lr: 1.0000e-04\n",
            "Epoch 98/150\n",
            "40/40 [==============================] - ETA: 0s - loss: 0.1350 - dice_coef: 0.8650 - iou: 0.7622 - recall_1: 0.3292 - precision_1: 0.9951\n",
            "Epoch 98: val_loss did not improve from 0.24117\n",
            "40/40 [==============================] - 44s 1s/step - loss: 0.1350 - dice_coef: 0.8650 - iou: 0.7622 - recall_1: 0.3292 - precision_1: 0.9951 - val_loss: 0.2421 - val_dice_coef: 0.7579 - val_iou: 0.6108 - val_recall_1: 0.3231 - val_precision_1: 0.9494 - lr: 1.0000e-04\n",
            "Epoch 99/150\n",
            "40/40 [==============================] - ETA: 0s - loss: 0.1346 - dice_coef: 0.8654 - iou: 0.7629 - recall_1: 0.3299 - precision_1: 0.9951\n",
            "Epoch 99: val_loss did not improve from 0.24117\n",
            "40/40 [==============================] - 44s 1s/step - loss: 0.1346 - dice_coef: 0.8654 - iou: 0.7629 - recall_1: 0.3299 - precision_1: 0.9951 - val_loss: 0.2492 - val_dice_coef: 0.7508 - val_iou: 0.6017 - val_recall_1: 0.3037 - val_precision_1: 0.9603 - lr: 1.0000e-04\n",
            "Epoch 100/150\n",
            "40/40 [==============================] - ETA: 0s - loss: 0.1343 - dice_coef: 0.8657 - iou: 0.7633 - recall_1: 0.3301 - precision_1: 0.9952\n",
            "Epoch 100: val_loss did not improve from 0.24117\n",
            "40/40 [==============================] - 45s 1s/step - loss: 0.1343 - dice_coef: 0.8657 - iou: 0.7633 - recall_1: 0.3301 - precision_1: 0.9952 - val_loss: 0.2465 - val_dice_coef: 0.7535 - val_iou: 0.6052 - val_recall_1: 0.3138 - val_precision_1: 0.9506 - lr: 1.0000e-04\n",
            "Epoch 101/150\n",
            "40/40 [==============================] - ETA: 0s - loss: 0.1341 - dice_coef: 0.8659 - iou: 0.7636 - recall_1: 0.3292 - precision_1: 0.9954\n",
            "Epoch 101: val_loss did not improve from 0.24117\n",
            "40/40 [==============================] - 45s 1s/step - loss: 0.1341 - dice_coef: 0.8659 - iou: 0.7636 - recall_1: 0.3292 - precision_1: 0.9954 - val_loss: 0.2433 - val_dice_coef: 0.7567 - val_iou: 0.6094 - val_recall_1: 0.3411 - val_precision_1: 0.9351 - lr: 1.0000e-04\n",
            "Epoch 102/150\n",
            "40/40 [==============================] - ETA: 0s - loss: 0.1346 - dice_coef: 0.8654 - iou: 0.7629 - recall_1: 0.3290 - precision_1: 0.9952\n",
            "Epoch 102: val_loss improved from 0.24117 to 0.24074, saving model to /content/drive/MyDrive/forunet/files/fbasicmodel.h5\n",
            "40/40 [==============================] - 48s 1s/step - loss: 0.1346 - dice_coef: 0.8654 - iou: 0.7629 - recall_1: 0.3290 - precision_1: 0.9952 - val_loss: 0.2407 - val_dice_coef: 0.7593 - val_iou: 0.6127 - val_recall_1: 0.3370 - val_precision_1: 0.9418 - lr: 1.0000e-04\n",
            "Epoch 103/150\n",
            "40/40 [==============================] - ETA: 0s - loss: 0.1344 - dice_coef: 0.8656 - iou: 0.7632 - recall_1: 0.3294 - precision_1: 0.9952\n",
            "Epoch 103: val_loss did not improve from 0.24074\n",
            "40/40 [==============================] - 44s 1s/step - loss: 0.1344 - dice_coef: 0.8656 - iou: 0.7632 - recall_1: 0.3294 - precision_1: 0.9952 - val_loss: 0.2444 - val_dice_coef: 0.7556 - val_iou: 0.6080 - val_recall_1: 0.3240 - val_precision_1: 0.9473 - lr: 1.0000e-04\n",
            "Epoch 104/150\n",
            "40/40 [==============================] - ETA: 0s - loss: 0.1345 - dice_coef: 0.8655 - iou: 0.7631 - recall_1: 0.3293 - precision_1: 0.9950\n",
            "Epoch 104: val_loss did not improve from 0.24074\n",
            "40/40 [==============================] - 43s 1s/step - loss: 0.1345 - dice_coef: 0.8655 - iou: 0.7631 - recall_1: 0.3293 - precision_1: 0.9950 - val_loss: 0.2429 - val_dice_coef: 0.7571 - val_iou: 0.6098 - val_recall_1: 0.3273 - val_precision_1: 0.9419 - lr: 1.0000e-04\n",
            "Epoch 105/150\n",
            "40/40 [==============================] - ETA: 0s - loss: 0.1340 - dice_coef: 0.8660 - iou: 0.7639 - recall_1: 0.3298 - precision_1: 0.9950\n",
            "Epoch 105: val_loss improved from 0.24074 to 0.23973, saving model to /content/drive/MyDrive/forunet/files/fbasicmodel.h5\n",
            "40/40 [==============================] - 47s 1s/step - loss: 0.1340 - dice_coef: 0.8660 - iou: 0.7639 - recall_1: 0.3298 - precision_1: 0.9950 - val_loss: 0.2397 - val_dice_coef: 0.7603 - val_iou: 0.6139 - val_recall_1: 0.3193 - val_precision_1: 0.9552 - lr: 1.0000e-04\n",
            "Epoch 106/150\n",
            "40/40 [==============================] - ETA: 0s - loss: 0.1335 - dice_coef: 0.8665 - iou: 0.7646 - recall_1: 0.3301 - precision_1: 0.9951\n",
            "Epoch 106: val_loss did not improve from 0.23973\n",
            "40/40 [==============================] - 43s 1s/step - loss: 0.1335 - dice_coef: 0.8665 - iou: 0.7646 - recall_1: 0.3301 - precision_1: 0.9951 - val_loss: 0.2464 - val_dice_coef: 0.7536 - val_iou: 0.6053 - val_recall_1: 0.3187 - val_precision_1: 0.9514 - lr: 1.0000e-04\n",
            "Epoch 107/150\n",
            "40/40 [==============================] - ETA: 0s - loss: 0.1328 - dice_coef: 0.8672 - iou: 0.7657 - recall_1: 0.3296 - precision_1: 0.9954\n",
            "Epoch 107: val_loss did not improve from 0.23973\n",
            "40/40 [==============================] - 44s 1s/step - loss: 0.1328 - dice_coef: 0.8672 - iou: 0.7657 - recall_1: 0.3296 - precision_1: 0.9954 - val_loss: 0.2486 - val_dice_coef: 0.7514 - val_iou: 0.6025 - val_recall_1: 0.3248 - val_precision_1: 0.9443 - lr: 1.0000e-04\n",
            "Epoch 108/150\n",
            "40/40 [==============================] - ETA: 0s - loss: 0.1326 - dice_coef: 0.8674 - iou: 0.7660 - recall_1: 0.3294 - precision_1: 0.9956\n",
            "Epoch 108: val_loss did not improve from 0.23973\n",
            "40/40 [==============================] - 43s 1s/step - loss: 0.1326 - dice_coef: 0.8674 - iou: 0.7660 - recall_1: 0.3294 - precision_1: 0.9956 - val_loss: 0.2460 - val_dice_coef: 0.7540 - val_iou: 0.6059 - val_recall_1: 0.3109 - val_precision_1: 0.9599 - lr: 1.0000e-04\n",
            "Epoch 109/150\n",
            "40/40 [==============================] - ETA: 0s - loss: 0.1323 - dice_coef: 0.8677 - iou: 0.7664 - recall_1: 0.3299 - precision_1: 0.9955\n",
            "Epoch 109: val_loss did not improve from 0.23973\n",
            "40/40 [==============================] - 43s 1s/step - loss: 0.1323 - dice_coef: 0.8677 - iou: 0.7664 - recall_1: 0.3299 - precision_1: 0.9955 - val_loss: 0.2459 - val_dice_coef: 0.7541 - val_iou: 0.6059 - val_recall_1: 0.3122 - val_precision_1: 0.9579 - lr: 1.0000e-04\n",
            "Epoch 110/150\n",
            "40/40 [==============================] - ETA: 0s - loss: 0.1325 - dice_coef: 0.8675 - iou: 0.7662 - recall_1: 0.3299 - precision_1: 0.9954\n",
            "Epoch 110: val_loss did not improve from 0.23973\n",
            "40/40 [==============================] - 43s 1s/step - loss: 0.1325 - dice_coef: 0.8675 - iou: 0.7662 - recall_1: 0.3299 - precision_1: 0.9954 - val_loss: 0.2516 - val_dice_coef: 0.7484 - val_iou: 0.5988 - val_recall_1: 0.3026 - val_precision_1: 0.9639 - lr: 1.0000e-04\n",
            "Epoch 111/150\n",
            "40/40 [==============================] - ETA: 0s - loss: 0.1318 - dice_coef: 0.8682 - iou: 0.7673 - recall_1: 0.3302 - precision_1: 0.9955\n",
            "Epoch 111: val_loss did not improve from 0.23973\n",
            "40/40 [==============================] - 44s 1s/step - loss: 0.1318 - dice_coef: 0.8682 - iou: 0.7673 - recall_1: 0.3302 - precision_1: 0.9955 - val_loss: 0.2631 - val_dice_coef: 0.7369 - val_iou: 0.5843 - val_recall_1: 0.2846 - val_precision_1: 0.9705 - lr: 1.0000e-04\n",
            "Epoch 112/150\n",
            "40/40 [==============================] - ETA: 0s - loss: 0.1310 - dice_coef: 0.8690 - iou: 0.7686 - recall_1: 0.3308 - precision_1: 0.9957\n",
            "Epoch 112: val_loss did not improve from 0.23973\n",
            "40/40 [==============================] - 43s 1s/step - loss: 0.1310 - dice_coef: 0.8690 - iou: 0.7686 - recall_1: 0.3308 - precision_1: 0.9957 - val_loss: 0.2534 - val_dice_coef: 0.7466 - val_iou: 0.5965 - val_recall_1: 0.3022 - val_precision_1: 0.9575 - lr: 1.0000e-04\n",
            "Epoch 113/150\n",
            "40/40 [==============================] - ETA: 0s - loss: 0.1310 - dice_coef: 0.8690 - iou: 0.7686 - recall_1: 0.3302 - precision_1: 0.9958\n",
            "Epoch 113: val_loss did not improve from 0.23973\n",
            "40/40 [==============================] - 44s 1s/step - loss: 0.1310 - dice_coef: 0.8690 - iou: 0.7686 - recall_1: 0.3302 - precision_1: 0.9958 - val_loss: 0.2489 - val_dice_coef: 0.7511 - val_iou: 0.6022 - val_recall_1: 0.3030 - val_precision_1: 0.9620 - lr: 1.0000e-04\n",
            "Epoch 114/150\n",
            "40/40 [==============================] - ETA: 0s - loss: 0.1298 - dice_coef: 0.8702 - iou: 0.7704 - recall_1: 0.3296 - precision_1: 0.9963\n",
            "Epoch 114: val_loss did not improve from 0.23973\n",
            "40/40 [==============================] - 43s 1s/step - loss: 0.1298 - dice_coef: 0.8702 - iou: 0.7704 - recall_1: 0.3296 - precision_1: 0.9963 - val_loss: 0.2575 - val_dice_coef: 0.7425 - val_iou: 0.5914 - val_recall_1: 0.2949 - val_precision_1: 0.9656 - lr: 1.0000e-04\n",
            "Epoch 115/150\n",
            "40/40 [==============================] - ETA: 0s - loss: 0.1293 - dice_coef: 0.8707 - iou: 0.7712 - recall_1: 0.3294 - precision_1: 0.9964\n",
            "Epoch 115: val_loss did not improve from 0.23973\n",
            "40/40 [==============================] - 43s 1s/step - loss: 0.1293 - dice_coef: 0.8707 - iou: 0.7712 - recall_1: 0.3294 - precision_1: 0.9964 - val_loss: 0.2486 - val_dice_coef: 0.7514 - val_iou: 0.6026 - val_recall_1: 0.3125 - val_precision_1: 0.9582 - lr: 1.0000e-04\n",
            "Epoch 116/150\n",
            "40/40 [==============================] - ETA: 0s - loss: 0.1296 - dice_coef: 0.8704 - iou: 0.7707 - recall_1: 0.3299 - precision_1: 0.9962\n",
            "Epoch 116: val_loss did not improve from 0.23973\n",
            "40/40 [==============================] - 44s 1s/step - loss: 0.1296 - dice_coef: 0.8704 - iou: 0.7707 - recall_1: 0.3299 - precision_1: 0.9962 - val_loss: 0.2461 - val_dice_coef: 0.7539 - val_iou: 0.6058 - val_recall_1: 0.3196 - val_precision_1: 0.9554 - lr: 1.0000e-04\n",
            "Epoch 117/150\n",
            "40/40 [==============================] - ETA: 0s - loss: 0.1307 - dice_coef: 0.8693 - iou: 0.7689 - recall_1: 0.3300 - precision_1: 0.9958\n",
            "Epoch 117: val_loss did not improve from 0.23973\n",
            "40/40 [==============================] - 44s 1s/step - loss: 0.1307 - dice_coef: 0.8693 - iou: 0.7689 - recall_1: 0.3300 - precision_1: 0.9958 - val_loss: 0.2444 - val_dice_coef: 0.7556 - val_iou: 0.6080 - val_recall_1: 0.3274 - val_precision_1: 0.9490 - lr: 1.0000e-04\n",
            "Epoch 118/150\n",
            "40/40 [==============================] - ETA: 0s - loss: 0.1325 - dice_coef: 0.8675 - iou: 0.7661 - recall_1: 0.3291 - precision_1: 0.9952\n",
            "Epoch 118: val_loss did not improve from 0.23973\n",
            "40/40 [==============================] - 44s 1s/step - loss: 0.1325 - dice_coef: 0.8675 - iou: 0.7661 - recall_1: 0.3291 - precision_1: 0.9952 - val_loss: 0.2435 - val_dice_coef: 0.7565 - val_iou: 0.6092 - val_recall_1: 0.3415 - val_precision_1: 0.9326 - lr: 1.0000e-04\n",
            "Epoch 119/150\n",
            "40/40 [==============================] - ETA: 0s - loss: 0.1335 - dice_coef: 0.8665 - iou: 0.7645 - recall_1: 0.3288 - precision_1: 0.9949\n",
            "Epoch 119: val_loss did not improve from 0.23973\n",
            "40/40 [==============================] - 45s 1s/step - loss: 0.1335 - dice_coef: 0.8665 - iou: 0.7645 - recall_1: 0.3288 - precision_1: 0.9949 - val_loss: 0.2416 - val_dice_coef: 0.7584 - val_iou: 0.6115 - val_recall_1: 0.3323 - val_precision_1: 0.9492 - lr: 1.0000e-04\n",
            "Epoch 120/150\n",
            "40/40 [==============================] - ETA: 0s - loss: 0.1334 - dice_coef: 0.8666 - iou: 0.7647 - recall_1: 0.3301 - precision_1: 0.9947\n",
            "Epoch 120: val_loss did not improve from 0.23973\n",
            "40/40 [==============================] - 44s 1s/step - loss: 0.1334 - dice_coef: 0.8666 - iou: 0.7647 - recall_1: 0.3301 - precision_1: 0.9947 - val_loss: 0.2504 - val_dice_coef: 0.7496 - val_iou: 0.6003 - val_recall_1: 0.3130 - val_precision_1: 0.9590 - lr: 1.0000e-04\n",
            "Epoch 121/150\n",
            "40/40 [==============================] - ETA: 0s - loss: 0.1315 - dice_coef: 0.8685 - iou: 0.7677 - recall_1: 0.3315 - precision_1: 0.9951\n",
            "Epoch 121: val_loss did not improve from 0.23973\n",
            "40/40 [==============================] - 44s 1s/step - loss: 0.1315 - dice_coef: 0.8685 - iou: 0.7677 - recall_1: 0.3315 - precision_1: 0.9951 - val_loss: 0.2524 - val_dice_coef: 0.7476 - val_iou: 0.5976 - val_recall_1: 0.2978 - val_precision_1: 0.9638 - lr: 1.0000e-04\n",
            "Epoch 122/150\n",
            "40/40 [==============================] - ETA: 0s - loss: 0.1295 - dice_coef: 0.8705 - iou: 0.7709 - recall_1: 0.3310 - precision_1: 0.9959\n",
            "Epoch 122: val_loss did not improve from 0.23973\n",
            "40/40 [==============================] - 44s 1s/step - loss: 0.1295 - dice_coef: 0.8705 - iou: 0.7709 - recall_1: 0.3310 - precision_1: 0.9959 - val_loss: 0.2539 - val_dice_coef: 0.7461 - val_iou: 0.5958 - val_recall_1: 0.2969 - val_precision_1: 0.9622 - lr: 1.0000e-04\n",
            "Epoch 123/150\n",
            "40/40 [==============================] - ETA: 0s - loss: 0.1278 - dice_coef: 0.8722 - iou: 0.7735 - recall_1: 0.3300 - precision_1: 0.9966\n",
            "Epoch 123: val_loss did not improve from 0.23973\n",
            "40/40 [==============================] - 44s 1s/step - loss: 0.1278 - dice_coef: 0.8722 - iou: 0.7735 - recall_1: 0.3300 - precision_1: 0.9966 - val_loss: 0.2457 - val_dice_coef: 0.7543 - val_iou: 0.6063 - val_recall_1: 0.3140 - val_precision_1: 0.9546 - lr: 1.0000e-04\n",
            "Epoch 124/150\n",
            "40/40 [==============================] - ETA: 0s - loss: 0.1265 - dice_coef: 0.8735 - iou: 0.7755 - recall_1: 0.3295 - precision_1: 0.9970\n",
            "Epoch 124: val_loss did not improve from 0.23973\n",
            "40/40 [==============================] - 43s 1s/step - loss: 0.1265 - dice_coef: 0.8735 - iou: 0.7755 - recall_1: 0.3295 - precision_1: 0.9970 - val_loss: 0.2416 - val_dice_coef: 0.7584 - val_iou: 0.6115 - val_recall_1: 0.3250 - val_precision_1: 0.9482 - lr: 1.0000e-04\n",
            "Epoch 125/150\n",
            "40/40 [==============================] - ETA: 0s - loss: 0.1260 - dice_coef: 0.8740 - iou: 0.7764 - recall_1: 0.3297 - precision_1: 0.9970\n",
            "Epoch 125: val_loss did not improve from 0.23973\n",
            "40/40 [==============================] - 45s 1s/step - loss: 0.1260 - dice_coef: 0.8740 - iou: 0.7764 - recall_1: 0.3297 - precision_1: 0.9970 - val_loss: 0.2467 - val_dice_coef: 0.7533 - val_iou: 0.6050 - val_recall_1: 0.3057 - val_precision_1: 0.9623 - lr: 1.0000e-04\n",
            "Epoch 126/150\n",
            "40/40 [==============================] - ETA: 0s - loss: 0.1258 - dice_coef: 0.8742 - iou: 0.7766 - recall_1: 0.3305 - precision_1: 0.9969\n",
            "Epoch 126: val_loss did not improve from 0.23973\n",
            "40/40 [==============================] - 43s 1s/step - loss: 0.1258 - dice_coef: 0.8742 - iou: 0.7766 - recall_1: 0.3305 - precision_1: 0.9969 - val_loss: 0.2530 - val_dice_coef: 0.7470 - val_iou: 0.5970 - val_recall_1: 0.2931 - val_precision_1: 0.9673 - lr: 1.0000e-04\n",
            "Epoch 127/150\n",
            "40/40 [==============================] - ETA: 0s - loss: 0.1262 - dice_coef: 0.8738 - iou: 0.7760 - recall_1: 0.3307 - precision_1: 0.9967\n",
            "Epoch 127: val_loss did not improve from 0.23973\n",
            "40/40 [==============================] - 45s 1s/step - loss: 0.1262 - dice_coef: 0.8738 - iou: 0.7760 - recall_1: 0.3307 - precision_1: 0.9967 - val_loss: 0.2560 - val_dice_coef: 0.7440 - val_iou: 0.5932 - val_recall_1: 0.2932 - val_precision_1: 0.9651 - lr: 1.0000e-04\n",
            "Epoch 128/150\n",
            "40/40 [==============================] - ETA: 0s - loss: 0.1269 - dice_coef: 0.8731 - iou: 0.7749 - recall_1: 0.3302 - precision_1: 0.9966\n",
            "Epoch 128: val_loss did not improve from 0.23973\n",
            "40/40 [==============================] - 44s 1s/step - loss: 0.1269 - dice_coef: 0.8731 - iou: 0.7749 - recall_1: 0.3302 - precision_1: 0.9966 - val_loss: 0.2584 - val_dice_coef: 0.7416 - val_iou: 0.5901 - val_recall_1: 0.2958 - val_precision_1: 0.9578 - lr: 1.0000e-04\n",
            "Epoch 129/150\n",
            "40/40 [==============================] - ETA: 0s - loss: 0.1278 - dice_coef: 0.8722 - iou: 0.7736 - recall_1: 0.3300 - precision_1: 0.9964\n",
            "Epoch 129: val_loss did not improve from 0.23973\n",
            "40/40 [==============================] - 43s 1s/step - loss: 0.1278 - dice_coef: 0.8722 - iou: 0.7736 - recall_1: 0.3300 - precision_1: 0.9964 - val_loss: 0.2545 - val_dice_coef: 0.7455 - val_iou: 0.5950 - val_recall_1: 0.2995 - val_precision_1: 0.9561 - lr: 1.0000e-04\n",
            "Epoch 130/150\n",
            "40/40 [==============================] - ETA: 0s - loss: 0.1278 - dice_coef: 0.8722 - iou: 0.7735 - recall_1: 0.3300 - precision_1: 0.9963\n",
            "Epoch 130: val_loss did not improve from 0.23973\n",
            "40/40 [==============================] - 44s 1s/step - loss: 0.1278 - dice_coef: 0.8722 - iou: 0.7735 - recall_1: 0.3300 - precision_1: 0.9963 - val_loss: 0.2512 - val_dice_coef: 0.7488 - val_iou: 0.5992 - val_recall_1: 0.3014 - val_precision_1: 0.9581 - lr: 1.0000e-04\n",
            "Epoch 131/150\n",
            "40/40 [==============================] - ETA: 0s - loss: 0.1280 - dice_coef: 0.8720 - iou: 0.7731 - recall_1: 0.3300 - precision_1: 0.9962\n",
            "Epoch 131: val_loss did not improve from 0.23973\n",
            "40/40 [==============================] - 44s 1s/step - loss: 0.1280 - dice_coef: 0.8720 - iou: 0.7731 - recall_1: 0.3300 - precision_1: 0.9962 - val_loss: 0.2503 - val_dice_coef: 0.7497 - val_iou: 0.6003 - val_recall_1: 0.3078 - val_precision_1: 0.9540 - lr: 1.0000e-04\n",
            "Epoch 132/150\n",
            "40/40 [==============================] - ETA: 0s - loss: 0.1284 - dice_coef: 0.8716 - iou: 0.7726 - recall_1: 0.3300 - precision_1: 0.9961\n",
            "Epoch 132: val_loss did not improve from 0.23973\n",
            "40/40 [==============================] - 44s 1s/step - loss: 0.1284 - dice_coef: 0.8716 - iou: 0.7726 - recall_1: 0.3300 - precision_1: 0.9961 - val_loss: 0.2527 - val_dice_coef: 0.7473 - val_iou: 0.5972 - val_recall_1: 0.3094 - val_precision_1: 0.9496 - lr: 1.0000e-04\n",
            "Epoch 133/150\n",
            "40/40 [==============================] - ETA: 0s - loss: 0.1285 - dice_coef: 0.8715 - iou: 0.7724 - recall_1: 0.3305 - precision_1: 0.9959\n",
            "Epoch 133: val_loss did not improve from 0.23973\n",
            "40/40 [==============================] - 44s 1s/step - loss: 0.1285 - dice_coef: 0.8715 - iou: 0.7724 - recall_1: 0.3305 - precision_1: 0.9959 - val_loss: 0.2538 - val_dice_coef: 0.7462 - val_iou: 0.5959 - val_recall_1: 0.2950 - val_precision_1: 0.9596 - lr: 1.0000e-04\n",
            "Epoch 134/150\n",
            "40/40 [==============================] - ETA: 0s - loss: 0.1283 - dice_coef: 0.8717 - iou: 0.7727 - recall_1: 0.3310 - precision_1: 0.9959\n",
            "Epoch 134: val_loss did not improve from 0.23973\n",
            "40/40 [==============================] - 44s 1s/step - loss: 0.1283 - dice_coef: 0.8717 - iou: 0.7727 - recall_1: 0.3310 - precision_1: 0.9959 - val_loss: 0.2601 - val_dice_coef: 0.7399 - val_iou: 0.5881 - val_recall_1: 0.2824 - val_precision_1: 0.9664 - lr: 1.0000e-04\n",
            "Epoch 135/150\n",
            "40/40 [==============================] - ETA: 0s - loss: 0.1276 - dice_coef: 0.8724 - iou: 0.7738 - recall_1: 0.3306 - precision_1: 0.9962\n",
            "Epoch 135: val_loss did not improve from 0.23973\n",
            "40/40 [==============================] - 43s 1s/step - loss: 0.1276 - dice_coef: 0.8724 - iou: 0.7738 - recall_1: 0.3306 - precision_1: 0.9962 - val_loss: 0.2592 - val_dice_coef: 0.7408 - val_iou: 0.5890 - val_recall_1: 0.2905 - val_precision_1: 0.9596 - lr: 1.0000e-04\n",
            "Epoch 136/150\n",
            "40/40 [==============================] - ETA: 0s - loss: 0.1274 - dice_coef: 0.8726 - iou: 0.7742 - recall_1: 0.3303 - precision_1: 0.9963\n",
            "Epoch 136: val_loss did not improve from 0.23973\n",
            "40/40 [==============================] - 45s 1s/step - loss: 0.1274 - dice_coef: 0.8726 - iou: 0.7742 - recall_1: 0.3303 - precision_1: 0.9963 - val_loss: 0.2550 - val_dice_coef: 0.7450 - val_iou: 0.5942 - val_recall_1: 0.3066 - val_precision_1: 0.9463 - lr: 1.0000e-04\n",
            "Epoch 137/150\n",
            "40/40 [==============================] - ETA: 0s - loss: 0.1267 - dice_coef: 0.8733 - iou: 0.7753 - recall_1: 0.3301 - precision_1: 0.9966\n",
            "Epoch 137: val_loss did not improve from 0.23973\n",
            "40/40 [==============================] - 43s 1s/step - loss: 0.1267 - dice_coef: 0.8733 - iou: 0.7753 - recall_1: 0.3301 - precision_1: 0.9966 - val_loss: 0.2552 - val_dice_coef: 0.7448 - val_iou: 0.5941 - val_recall_1: 0.3073 - val_precision_1: 0.9464 - lr: 1.0000e-04\n",
            "Epoch 138/150\n",
            "40/40 [==============================] - ETA: 0s - loss: 0.1266 - dice_coef: 0.8734 - iou: 0.7754 - recall_1: 0.3305 - precision_1: 0.9965\n",
            "Epoch 138: val_loss did not improve from 0.23973\n",
            "40/40 [==============================] - 44s 1s/step - loss: 0.1266 - dice_coef: 0.8734 - iou: 0.7754 - recall_1: 0.3305 - precision_1: 0.9965 - val_loss: 0.2576 - val_dice_coef: 0.7424 - val_iou: 0.5911 - val_recall_1: 0.2997 - val_precision_1: 0.9525 - lr: 1.0000e-04\n",
            "Epoch 139/150\n",
            "40/40 [==============================] - ETA: 0s - loss: 0.1271 - dice_coef: 0.8729 - iou: 0.7746 - recall_1: 0.3306 - precision_1: 0.9963\n",
            "Epoch 139: val_loss did not improve from 0.23973\n",
            "40/40 [==============================] - 44s 1s/step - loss: 0.1271 - dice_coef: 0.8729 - iou: 0.7746 - recall_1: 0.3306 - precision_1: 0.9963 - val_loss: 0.2591 - val_dice_coef: 0.7409 - val_iou: 0.5891 - val_recall_1: 0.2903 - val_precision_1: 0.9614 - lr: 1.0000e-04\n",
            "Epoch 140/150\n",
            "40/40 [==============================] - ETA: 0s - loss: 0.1276 - dice_coef: 0.8724 - iou: 0.7739 - recall_1: 0.3307 - precision_1: 0.9961\n",
            "Epoch 140: val_loss did not improve from 0.23973\n",
            "40/40 [==============================] - 44s 1s/step - loss: 0.1276 - dice_coef: 0.8724 - iou: 0.7739 - recall_1: 0.3307 - precision_1: 0.9961 - val_loss: 0.2620 - val_dice_coef: 0.7380 - val_iou: 0.5854 - val_recall_1: 0.2831 - val_precision_1: 0.9651 - lr: 1.0000e-04\n",
            "Epoch 141/150\n",
            "40/40 [==============================] - ETA: 0s - loss: 0.1283 - dice_coef: 0.8717 - iou: 0.7728 - recall_1: 0.3308 - precision_1: 0.9959\n",
            "Epoch 141: val_loss did not improve from 0.23973\n",
            "40/40 [==============================] - 44s 1s/step - loss: 0.1283 - dice_coef: 0.8717 - iou: 0.7728 - recall_1: 0.3308 - precision_1: 0.9959 - val_loss: 0.2655 - val_dice_coef: 0.7345 - val_iou: 0.5812 - val_recall_1: 0.2778 - val_precision_1: 0.9671 - lr: 1.0000e-04\n",
            "Epoch 142/150\n",
            "40/40 [==============================] - ETA: 0s - loss: 0.1283 - dice_coef: 0.8717 - iou: 0.7727 - recall_1: 0.3311 - precision_1: 0.9958\n",
            "Epoch 142: val_loss did not improve from 0.23973\n",
            "40/40 [==============================] - 44s 1s/step - loss: 0.1283 - dice_coef: 0.8717 - iou: 0.7727 - recall_1: 0.3311 - precision_1: 0.9958 - val_loss: 0.2637 - val_dice_coef: 0.7363 - val_iou: 0.5833 - val_recall_1: 0.2868 - val_precision_1: 0.9593 - lr: 1.0000e-04\n",
            "Epoch 143/150\n",
            "40/40 [==============================] - ETA: 0s - loss: 0.1290 - dice_coef: 0.8710 - iou: 0.7716 - recall_1: 0.3305 - precision_1: 0.9957\n",
            "Epoch 143: val_loss did not improve from 0.23973\n",
            "40/40 [==============================] - 44s 1s/step - loss: 0.1290 - dice_coef: 0.8710 - iou: 0.7716 - recall_1: 0.3305 - precision_1: 0.9957 - val_loss: 0.2644 - val_dice_coef: 0.7356 - val_iou: 0.5824 - val_recall_1: 0.2932 - val_precision_1: 0.9580 - lr: 1.0000e-04\n",
            "Epoch 144/150\n",
            "40/40 [==============================] - ETA: 0s - loss: 0.1293 - dice_coef: 0.8707 - iou: 0.7711 - recall_1: 0.3300 - precision_1: 0.9957\n",
            "Epoch 144: val_loss did not improve from 0.23973\n",
            "40/40 [==============================] - 43s 1s/step - loss: 0.1293 - dice_coef: 0.8707 - iou: 0.7711 - recall_1: 0.3300 - precision_1: 0.9957 - val_loss: 0.2649 - val_dice_coef: 0.7351 - val_iou: 0.5819 - val_recall_1: 0.2952 - val_precision_1: 0.9563 - lr: 1.0000e-04\n",
            "Epoch 145/150\n",
            "40/40 [==============================] - ETA: 0s - loss: 0.1295 - dice_coef: 0.8705 - iou: 0.7708 - recall_1: 0.3306 - precision_1: 0.9955\n",
            "Epoch 145: val_loss did not improve from 0.23973\n",
            "40/40 [==============================] - 45s 1s/step - loss: 0.1295 - dice_coef: 0.8705 - iou: 0.7708 - recall_1: 0.3306 - precision_1: 0.9955 - val_loss: 0.2599 - val_dice_coef: 0.7401 - val_iou: 0.5882 - val_recall_1: 0.2904 - val_precision_1: 0.9643 - lr: 1.0000e-04\n",
            "Epoch 146/150\n",
            "40/40 [==============================] - ETA: 0s - loss: 0.1292 - dice_coef: 0.8708 - iou: 0.7712 - recall_1: 0.3304 - precision_1: 0.9956\n",
            "Epoch 146: val_loss did not improve from 0.23973\n",
            "40/40 [==============================] - 43s 1s/step - loss: 0.1292 - dice_coef: 0.8708 - iou: 0.7712 - recall_1: 0.3304 - precision_1: 0.9956 - val_loss: 0.2570 - val_dice_coef: 0.7430 - val_iou: 0.5919 - val_recall_1: 0.2937 - val_precision_1: 0.9626 - lr: 1.0000e-04\n",
            "Epoch 147/150\n",
            "40/40 [==============================] - ETA: 0s - loss: 0.1290 - dice_coef: 0.8710 - iou: 0.7717 - recall_1: 0.3306 - precision_1: 0.9956\n",
            "Epoch 147: val_loss did not improve from 0.23973\n",
            "40/40 [==============================] - 45s 1s/step - loss: 0.1290 - dice_coef: 0.8710 - iou: 0.7717 - recall_1: 0.3306 - precision_1: 0.9956 - val_loss: 0.2643 - val_dice_coef: 0.7357 - val_iou: 0.5825 - val_recall_1: 0.2946 - val_precision_1: 0.9588 - lr: 1.0000e-04\n",
            "Epoch 148/150\n",
            "40/40 [==============================] - ETA: 0s - loss: 0.1291 - dice_coef: 0.8709 - iou: 0.7715 - recall_1: 0.3304 - precision_1: 0.9956\n",
            "Epoch 148: val_loss did not improve from 0.23973\n",
            "40/40 [==============================] - 43s 1s/step - loss: 0.1291 - dice_coef: 0.8709 - iou: 0.7715 - recall_1: 0.3304 - precision_1: 0.9956 - val_loss: 0.2741 - val_dice_coef: 0.7259 - val_iou: 0.5704 - val_recall_1: 0.2870 - val_precision_1: 0.9603 - lr: 1.0000e-04\n",
            "Epoch 149/150\n",
            "40/40 [==============================] - ETA: 0s - loss: 0.1292 - dice_coef: 0.8708 - iou: 0.7712 - recall_1: 0.3307 - precision_1: 0.9954\n",
            "Epoch 149: val_loss did not improve from 0.23973\n",
            "40/40 [==============================] - 45s 1s/step - loss: 0.1292 - dice_coef: 0.8708 - iou: 0.7712 - recall_1: 0.3307 - precision_1: 0.9954 - val_loss: 0.2705 - val_dice_coef: 0.7295 - val_iou: 0.5750 - val_recall_1: 0.2891 - val_precision_1: 0.9602 - lr: 1.0000e-04\n",
            "Epoch 150/150\n",
            "40/40 [==============================] - ETA: 0s - loss: 0.1283 - dice_coef: 0.8717 - iou: 0.7727 - recall_1: 0.3308 - precision_1: 0.9957\n",
            "Epoch 150: val_loss did not improve from 0.23973\n",
            "40/40 [==============================] - 44s 1s/step - loss: 0.1283 - dice_coef: 0.8717 - iou: 0.7727 - recall_1: 0.3308 - precision_1: 0.9957 - val_loss: 0.2609 - val_dice_coef: 0.7391 - val_iou: 0.5869 - val_recall_1: 0.3058 - val_precision_1: 0.9520 - lr: 1.0000e-04\n"
          ]
        }
      ],
      "source": [
        "H = 512\n",
        "W = 512\n",
        "\n",
        "def create_dir(path):\n",
        "    if not os.path.exists(path):\n",
        "        os.makedirs(path)\n",
        "\n",
        "def load_data(path):\n",
        "    x = sorted(glob(os.path.join(path, \"image\", \"*.jpg\")))\n",
        "    y = sorted(glob(os.path.join(path, \"mask\", \"*.jpg\")))\n",
        "    return x, y\n",
        "\n",
        "def shuffling(x, y):\n",
        "    x, y = shuffle(x, y, random_state=42)\n",
        "    return x, y\n",
        "\n",
        "def read_image(path):\n",
        "    path = path.decode()\n",
        "    x = cv2.imread(path, cv2.IMREAD_COLOR)\n",
        "    # x = cv2.resize(x, (W, H))\n",
        "    x = x/255.0\n",
        "    x = x.astype(np.float32)\n",
        "    return x\n",
        "\n",
        "def read_mask(path):\n",
        "    path = path.decode()\n",
        "    x = cv2.imread(path, cv2.IMREAD_GRAYSCALE)  ## (512, 512)\n",
        "    # x = cv2.resize(x, (W, H))\n",
        "    x = x/255.0\n",
        "    x = x.astype(np.float32)\n",
        "    x = np.expand_dims(x, axis=-1)              ## (512, 512, 1)\n",
        "    return x\n",
        "\n",
        "def tf_parse(x, y):\n",
        "    def _parse(x, y):\n",
        "        x = read_image(x)\n",
        "        y = read_mask(y)\n",
        "        return x, y\n",
        "\n",
        "    x, y = tf.numpy_function(_parse, [x, y], [tf.float32, tf.float32])\n",
        "    x.set_shape([H, W, 3])\n",
        "    y.set_shape([H, W, 1])\n",
        "    return x, y\n",
        "\n",
        "def tf_dataset(X, Y, batch_size=2):\n",
        "    dataset = tf.data.Dataset.from_tensor_slices((X, Y))\n",
        "    dataset = dataset.map(tf_parse)\n",
        "    dataset = dataset.batch(batch_size)\n",
        "    dataset = dataset.prefetch(4)\n",
        "    return dataset\n",
        "\n",
        "if __name__ == \"__main__\":\n",
        "    \"\"\" Seeding \"\"\"\n",
        "    np.random.seed(42)\n",
        "    tf.random.set_seed(42)\n",
        "\n",
        "    \"\"\" Directory to save files \"\"\"\n",
        "    create_dir(\"files\")\n",
        "\n",
        "    \"\"\" Hyperparameters \"\"\"\n",
        "    batch_size = 4\n",
        "    lr = 0.0001\n",
        "    num_epochs = 150\n",
        "    model_path = os.path.join(\"/content/drive/MyDrive/forunet/files\", \"fbasicmodel.h5\")\n",
        "    csv_path = os.path.join(\"/content/drive/MyDrive/forunet/files\", \"fbasicdata.csv\")\n",
        "\n",
        "    \"\"\" Dataset \"\"\"\n",
        "    dataset_path = \"/content/drive/MyDrive/forunet/finaldata\"\n",
        "    train_path = os.path.join(dataset_path, \"train\")\n",
        "    valid_path = os.path.join(dataset_path, \"val\")\n",
        "\n",
        "    train_x, train_y = load_data(train_path)\n",
        "    train_x, train_y = shuffling(train_x, train_y)\n",
        "    valid_x, valid_y = load_data(valid_path)\n",
        "\n",
        "    print(f\"Train: {len(train_x)} - {len(train_y)}\")\n",
        "    print(f\"Valid: {len(valid_x)} - {len(valid_y)}\")\n",
        "\n",
        "    train_dataset = tf_dataset(train_x, train_y, batch_size=batch_size)\n",
        "    valid_dataset = tf_dataset(valid_x, valid_y, batch_size=batch_size)\n",
        "\n",
        "    train_steps = len(train_x)//batch_size\n",
        "    valid_setps = len(valid_x)//batch_size\n",
        "\n",
        "    if len(train_x) % batch_size != 0:\n",
        "        train_steps += 1\n",
        "    if len(valid_x) % batch_size != 0:\n",
        "        valid_setps += 1\n",
        "\n",
        "    \"\"\" Model \"\"\"\n",
        "    model = build_unet((H, W, 3))\n",
        "    model.compile(loss=dice_loss, optimizer=Adam(lr), metrics=[dice_coef, iou, Recall(), Precision()])\n",
        "    # model.summary()\n",
        "\n",
        "    callbacks = [\n",
        "        ModelCheckpoint(model_path, verbose=1, save_best_only=True),\n",
        "        ReduceLROnPlateau(monitor=\"val_loss\", factor = 0.01, patience=5, min_lr= 0.0001, verbose=1),\n",
        "        CSVLogger(csv_path),\n",
        "        TensorBoard(),\n",
        "        EarlyStopping(monitor=\"val_loss\", patience=150, restore_best_weights=False)\n",
        "    ]\n",
        "    history =  model.fit(\n",
        "        train_dataset,\n",
        "        epochs=num_epochs,\n",
        "        validation_data=valid_dataset,\n",
        "        steps_per_epoch=train_steps,\n",
        "        validation_steps=valid_setps,\n",
        "        callbacks=callbacks\n",
        "    )"
      ]
    },
    {
      "cell_type": "code",
      "source": [
        "#Evaluation\n",
        "import os\n",
        "os.environ[\"TF_CPP_MIN_LOG_LEVEL\"] = \"2\"\n",
        "import numpy as np\n",
        "import pandas as pd\n",
        "import cv2\n",
        "from glob import glob\n",
        "from tqdm import tqdm\n",
        "import tensorflow as tf\n",
        "from tensorflow.keras.utils import CustomObjectScope\n",
        "from sklearn.metrics import accuracy_score, f1_score, jaccard_score, precision_score, recall_score\n",
        "#from metrics import dice_loss, dice_coef, iou\n",
        "\n",
        "H = 512\n",
        "W = 512\n",
        "\n",
        "def create_dir(path):\n",
        "    if not os.path.exists(path):\n",
        "        os.makedirs(path)\n",
        "\n",
        "def read_image(path):\n",
        "    x = cv2.imread(path, cv2.IMREAD_COLOR)\n",
        "    # x = cv2.resize(x, (W, H))\n",
        "    ori_x = x\n",
        "    x = x/255.0\n",
        "    x = x.astype(np.float32)\n",
        "    return ori_x, x\n",
        "\n",
        "def read_mask(path):\n",
        "    x = cv2.imread(path, cv2.IMREAD_GRAYSCALE)  ## (512, 512)\n",
        "    # x = cv2.resize(x, (W, H))\n",
        "    ori_x = x\n",
        "    x = x/255.0\n",
        "    x = x.astype(np.int32)\n",
        "    return ori_x, x\n",
        "\n",
        "def load_data(path):\n",
        "    x = sorted(glob(os.path.join(path, \"image\", \"*.jpg\")))\n",
        "    y = sorted(glob(os.path.join(path, \"mask\", \"*.jpg\")))\n",
        "    return x, y\n",
        "\n",
        "def save_results(ori_x, ori_y, y_pred, save_image_path):\n",
        "    line = np.ones((H, 10, 3)) * 255     # 10 pixel white line to separate the images\n",
        "\n",
        "    ori_y = np.expand_dims(ori_y, axis=-1)\n",
        "    ori_y = np.concatenate([ori_y, ori_y, ori_y], axis=-1)\n",
        "\n",
        "    y_pred = np.expand_dims(y_pred, axis=-1)\n",
        "    y_pred = np.concatenate([y_pred, y_pred, y_pred], axis=-1) * 255\n",
        "\n",
        "    cat_images = np.concatenate([ori_x, line, ori_y, line, y_pred], axis=1)    #concatinated images\n",
        "    cv2.imwrite(save_image_path, cat_images)\n",
        "\n",
        "if __name__ == \"__main__\":\n",
        "    \"\"\" Save the results in this folder \"\"\"\n",
        "    create_dir(\"results\")\n",
        "\n",
        "    \"\"\" Load the model \"\"\"\n",
        "    with CustomObjectScope({'iou': iou, 'dice_coef': dice_coef, 'dice_loss': dice_loss}):\n",
        "        model = tf.keras.models.load_model(\"/content/drive/MyDrive/forunet/files/fbasicmodel.h5\")\n",
        "\n",
        "    \"\"\" Load the dataset \"\"\"\n",
        "    dataset_path = os.path.join(\"/content/drive/MyDrive/forunet/finaldata/val\")\n",
        "    test_x, test_y = load_data(dataset_path)\n",
        "\n",
        "    \"\"\" Make the prediction and calculate the metrics values \"\"\"\n",
        "    SCORE = []\n",
        "    for x, y in tqdm(zip(test_x, test_y), total=len(test_x)):\n",
        "      \"\"\" Extracting name \"\"\"\n",
        "      name = x.split(\"/\")[-1].split(\".\")[0]\n",
        "      #print(name)\n",
        "      \n",
        "      #Read the image and mask\n",
        "      ori_x, x = read_image(x)\n",
        "      ori_y, y = read_mask(y)\n",
        "\n",
        "      #Prediction \n",
        "      y_pred = model.predict(np.expand_dims(x, axis=0))[0]\n",
        "      y_pred = y_pred > 0.5   # the threshold to make it 0 or 1 predict\n",
        "      y_pred = y_pred.astype(np.int32)\n",
        "      y_pred = np.squeeze(y_pred, axis=-1)\n",
        "\n",
        "      # Saving the images\n",
        "      save_image_path = f\"/content/drive/MyDrive/finalresultB/provalimage/{name}.jpg\"\n",
        "      save_results(ori_x, ori_y, y_pred, save_image_path)\n",
        "   \n",
        "           \n",
        "      # Flatten the array\n",
        "      y = y.flatten()\n",
        "      y_pred = y_pred.flatten()\n",
        "\n",
        "      #Calculate the metrics \n",
        "      acc_value = accuracy_score(y, y_pred)\n",
        "      f1_value = f1_score(y, y_pred, labels=[0, 1], average=\"binary\")\n",
        "      jac_value = jaccard_score(y, y_pred, labels=[0, 1], average=\"binary\")\n",
        "      recall_value = recall_score(y, y_pred, labels=[0, 1], average=\"binary\")\n",
        "      precision_value = precision_score(y, y_pred, labels=[0, 1], average=\"binary\")\n",
        "      SCORE.append([name, acc_value, f1_value, jac_value, recall_value, precision_value])\n",
        "\n",
        "    score = [s[1:] for s in SCORE]\n",
        "    score = np.mean(score, axis=0)\n",
        "    \n",
        "    print(f\"Accuracy: {score[0]:0.5f}\")\n",
        "    print(f\"F1: {score[1]:0.5f}\")\n",
        "    print(f\"Jaccard: {score[2]:0.5f}\")\n",
        "    print(f\"Recall: {score[3]:0.5f}\")\n",
        "    print(f\"Precision: {score[4]:0.5f}\")\n",
        "    \n",
        "\n",
        "    #Saving \n",
        "    df = pd.DataFrame(SCORE, columns=[\"Image\", \"Acc\", \"F1\", \"Jaccard\", \"Recall\", \"Precision\"])\n",
        "    df.to_csv(\"/content/drive/MyDrive/finalresultB/provalscore.csv\")\n",
        "\n",
        "     "
      ],
      "metadata": {
        "colab": {
          "base_uri": "https://localhost:8080/"
        },
        "id": "DQ4BY4taLWpS",
        "outputId": "ec4b0f53-fe6c-4f04-d8e2-ec85294c8895"
      },
      "execution_count": null,
      "outputs": [
        {
          "output_type": "stream",
          "name": "stderr",
          "text": [
            "\r  0%|          | 0/20 [00:00<?, ?it/s]"
          ]
        },
        {
          "output_type": "stream",
          "name": "stdout",
          "text": [
            "1/1 [==============================] - 11s 11s/step\n"
          ]
        },
        {
          "output_type": "stream",
          "name": "stderr",
          "text": [
            "\r  5%|▌         | 1/20 [00:11<03:45, 11.88s/it]"
          ]
        },
        {
          "output_type": "stream",
          "name": "stdout",
          "text": [
            "1/1 [==============================] - 0s 19ms/step\n"
          ]
        },
        {
          "output_type": "stream",
          "name": "stderr",
          "text": [
            "\r 10%|█         | 2/20 [00:12<01:37,  5.43s/it]"
          ]
        },
        {
          "output_type": "stream",
          "name": "stdout",
          "text": [
            "1/1 [==============================] - 0s 18ms/step\n"
          ]
        },
        {
          "output_type": "stream",
          "name": "stderr",
          "text": [
            "\r 15%|█▌        | 3/20 [00:13<00:57,  3.38s/it]"
          ]
        },
        {
          "output_type": "stream",
          "name": "stdout",
          "text": [
            "1/1 [==============================] - 0s 20ms/step\n"
          ]
        },
        {
          "output_type": "stream",
          "name": "stderr",
          "text": [
            "\r 20%|██        | 4/20 [00:14<00:38,  2.40s/it]"
          ]
        },
        {
          "output_type": "stream",
          "name": "stdout",
          "text": [
            "1/1 [==============================] - 0s 24ms/step\n"
          ]
        },
        {
          "output_type": "stream",
          "name": "stderr",
          "text": [
            "\r 25%|██▌       | 5/20 [00:15<00:28,  1.87s/it]"
          ]
        },
        {
          "output_type": "stream",
          "name": "stdout",
          "text": [
            "1/1 [==============================] - 0s 20ms/step\n"
          ]
        },
        {
          "output_type": "stream",
          "name": "stderr",
          "text": [
            "\r 30%|███       | 6/20 [00:16<00:21,  1.56s/it]"
          ]
        },
        {
          "output_type": "stream",
          "name": "stdout",
          "text": [
            "1/1 [==============================] - 0s 21ms/step\n"
          ]
        },
        {
          "output_type": "stream",
          "name": "stderr",
          "text": [
            "\r 35%|███▌      | 7/20 [00:17<00:17,  1.35s/it]"
          ]
        },
        {
          "output_type": "stream",
          "name": "stdout",
          "text": [
            "1/1 [==============================] - 0s 19ms/step\n"
          ]
        },
        {
          "output_type": "stream",
          "name": "stderr",
          "text": [
            "\r 40%|████      | 8/20 [00:18<00:14,  1.21s/it]"
          ]
        },
        {
          "output_type": "stream",
          "name": "stdout",
          "text": [
            "1/1 [==============================] - 0s 19ms/step\n"
          ]
        },
        {
          "output_type": "stream",
          "name": "stderr",
          "text": [
            "\r 45%|████▌     | 9/20 [00:19<00:11,  1.08s/it]"
          ]
        },
        {
          "output_type": "stream",
          "name": "stdout",
          "text": [
            "1/1 [==============================] - 0s 19ms/step\n"
          ]
        },
        {
          "output_type": "stream",
          "name": "stderr",
          "text": [
            "\r 50%|█████     | 10/20 [00:20<00:10,  1.03s/it]"
          ]
        },
        {
          "output_type": "stream",
          "name": "stdout",
          "text": [
            "1/1 [==============================] - 0s 24ms/step\n"
          ]
        },
        {
          "output_type": "stream",
          "name": "stderr",
          "text": [
            "\r 55%|█████▌    | 11/20 [00:21<00:08,  1.00it/s]"
          ]
        },
        {
          "output_type": "stream",
          "name": "stdout",
          "text": [
            "1/1 [==============================] - 0s 20ms/step\n"
          ]
        },
        {
          "output_type": "stream",
          "name": "stderr",
          "text": [
            "\r 60%|██████    | 12/20 [00:21<00:07,  1.02it/s]"
          ]
        },
        {
          "output_type": "stream",
          "name": "stdout",
          "text": [
            "1/1 [==============================] - 0s 19ms/step\n"
          ]
        },
        {
          "output_type": "stream",
          "name": "stderr",
          "text": [
            "\r 65%|██████▌   | 13/20 [00:22<00:06,  1.05it/s]"
          ]
        },
        {
          "output_type": "stream",
          "name": "stdout",
          "text": [
            "1/1 [==============================] - 0s 19ms/step\n"
          ]
        },
        {
          "output_type": "stream",
          "name": "stderr",
          "text": [
            "\r 70%|███████   | 14/20 [00:23<00:05,  1.08it/s]"
          ]
        },
        {
          "output_type": "stream",
          "name": "stdout",
          "text": [
            "1/1 [==============================] - 0s 18ms/step\n"
          ]
        },
        {
          "output_type": "stream",
          "name": "stderr",
          "text": [
            "\r 75%|███████▌  | 15/20 [00:24<00:04,  1.11it/s]"
          ]
        },
        {
          "output_type": "stream",
          "name": "stdout",
          "text": [
            "1/1 [==============================] - 0s 19ms/step\n"
          ]
        },
        {
          "output_type": "stream",
          "name": "stderr",
          "text": [
            "\r 80%|████████  | 16/20 [00:25<00:03,  1.11it/s]"
          ]
        },
        {
          "output_type": "stream",
          "name": "stdout",
          "text": [
            "1/1 [==============================] - 0s 21ms/step\n"
          ]
        },
        {
          "output_type": "stream",
          "name": "stderr",
          "text": [
            "\r 85%|████████▌ | 17/20 [00:26<00:02,  1.09it/s]"
          ]
        },
        {
          "output_type": "stream",
          "name": "stdout",
          "text": [
            "1/1 [==============================] - 0s 23ms/step\n"
          ]
        },
        {
          "output_type": "stream",
          "name": "stderr",
          "text": [
            "\r 90%|█████████ | 18/20 [00:27<00:01,  1.05it/s]"
          ]
        },
        {
          "output_type": "stream",
          "name": "stdout",
          "text": [
            "1/1 [==============================] - 0s 20ms/step\n"
          ]
        },
        {
          "output_type": "stream",
          "name": "stderr",
          "text": [
            "\r 95%|█████████▌| 19/20 [00:28<00:00,  1.05it/s]"
          ]
        },
        {
          "output_type": "stream",
          "name": "stdout",
          "text": [
            "1/1 [==============================] - 0s 19ms/step\n"
          ]
        },
        {
          "output_type": "stream",
          "name": "stderr",
          "text": [
            "100%|██████████| 20/20 [00:29<00:00,  1.47s/it]"
          ]
        },
        {
          "output_type": "stream",
          "name": "stdout",
          "text": [
            "Accuracy: 0.93010\n",
            "F1: 0.45206\n",
            "Jaccard: 0.29260\n",
            "Recall: 0.86772\n",
            "Precision: 0.30830\n"
          ]
        },
        {
          "output_type": "stream",
          "name": "stderr",
          "text": [
            "\n"
          ]
        }
      ]
    },
    {
      "cell_type": "code",
      "source": [],
      "metadata": {
        "id": "BNV3Q2A6LW91"
      },
      "execution_count": null,
      "outputs": []
    },
    {
      "cell_type": "code",
      "execution_count": null,
      "metadata": {
        "colab": {
          "base_uri": "https://localhost:8080/"
        },
        "id": "XY-GH-9-mX2V",
        "outputId": "6dcde63e-f02a-4384-9bd4-5c9885f1b014"
      },
      "outputs": [
        {
          "name": "stdout",
          "output_type": "stream",
          "text": [
            "Train: 10 - 10\n",
            "Test: 10 - 10\n"
          ]
        },
        {
          "name": "stderr",
          "output_type": "stream",
          "text": [
            "\r  0%|          | 0/10 [00:00<?, ?it/s]"
          ]
        },
        {
          "name": "stdout",
          "output_type": "stream",
          "text": [
            "/content/drive/MyDrive/final/train/image/Copy of image0.jpg_ /content/drive/MyDrive/final/train/mask/Copy of image0.jpg_\n",
            "Copy of image0\n"
          ]
        },
        {
          "name": "stderr",
          "output_type": "stream",
          "text": [
            "\r 10%|█         | 1/10 [00:01<00:09,  1.07s/it]"
          ]
        },
        {
          "name": "stdout",
          "output_type": "stream",
          "text": [
            "/content/drive/MyDrive/final/train/image/Copy of image1.jpg_ /content/drive/MyDrive/final/train/mask/Copy of image1.jpg_\n",
            "Copy of image1\n"
          ]
        },
        {
          "name": "stderr",
          "output_type": "stream",
          "text": [
            "\r 20%|██        | 2/10 [00:02<00:08,  1.05s/it]"
          ]
        },
        {
          "name": "stdout",
          "output_type": "stream",
          "text": [
            "/content/drive/MyDrive/final/train/image/Copy of image2.jpg_ /content/drive/MyDrive/final/train/mask/Copy of image2.jpg_\n",
            "Copy of image2\n"
          ]
        },
        {
          "name": "stderr",
          "output_type": "stream",
          "text": [
            "\r 30%|███       | 3/10 [00:03<00:07,  1.12s/it]"
          ]
        },
        {
          "name": "stdout",
          "output_type": "stream",
          "text": [
            "/content/drive/MyDrive/final/train/image/Copy of image3.jpg_ /content/drive/MyDrive/final/train/mask/Copy of image3.jpg_\n",
            "Copy of image3\n"
          ]
        },
        {
          "name": "stderr",
          "output_type": "stream",
          "text": [
            "\r 40%|████      | 4/10 [00:04<00:06,  1.08s/it]"
          ]
        },
        {
          "name": "stdout",
          "output_type": "stream",
          "text": [
            "/content/drive/MyDrive/final/train/image/Copy of image4.jpg_ /content/drive/MyDrive/final/train/mask/Copy of image4.jpg_\n",
            "Copy of image4\n"
          ]
        },
        {
          "name": "stderr",
          "output_type": "stream",
          "text": [
            "\r 50%|█████     | 5/10 [00:05<00:05,  1.11s/it]"
          ]
        },
        {
          "name": "stdout",
          "output_type": "stream",
          "text": [
            "/content/drive/MyDrive/final/train/image/Copy of image5.jpg_ /content/drive/MyDrive/final/train/mask/Copy of image5.jpg_\n",
            "Copy of image5\n"
          ]
        },
        {
          "name": "stderr",
          "output_type": "stream",
          "text": [
            "\r 60%|██████    | 6/10 [00:06<00:04,  1.13s/it]"
          ]
        },
        {
          "name": "stdout",
          "output_type": "stream",
          "text": [
            "/content/drive/MyDrive/final/train/image/Copy of image6.jpg_ /content/drive/MyDrive/final/train/mask/Copy of image6.jpg_\n",
            "Copy of image6\n"
          ]
        },
        {
          "name": "stderr",
          "output_type": "stream",
          "text": [
            "\r 70%|███████   | 7/10 [00:07<00:03,  1.15s/it]"
          ]
        },
        {
          "name": "stdout",
          "output_type": "stream",
          "text": [
            "/content/drive/MyDrive/final/train/image/Copy of image7.jpg_ /content/drive/MyDrive/final/train/mask/Copy of image7.jpg_\n",
            "Copy of image7\n"
          ]
        },
        {
          "name": "stderr",
          "output_type": "stream",
          "text": [
            "\r 80%|████████  | 8/10 [00:09<00:02,  1.18s/it]"
          ]
        },
        {
          "name": "stdout",
          "output_type": "stream",
          "text": [
            "/content/drive/MyDrive/final/train/image/Copy of image8.jpg_ /content/drive/MyDrive/final/train/mask/Copy of image8.jpg_\n",
            "Copy of image8\n"
          ]
        },
        {
          "name": "stderr",
          "output_type": "stream",
          "text": [
            "\r 90%|█████████ | 9/10 [00:10<00:01,  1.15s/it]"
          ]
        },
        {
          "name": "stdout",
          "output_type": "stream",
          "text": [
            "/content/drive/MyDrive/final/train/image/Copy of image9.jpg_ /content/drive/MyDrive/final/train/mask/Copy of image9.jpg_\n",
            "Copy of image9\n"
          ]
        },
        {
          "name": "stderr",
          "output_type": "stream",
          "text": [
            "100%|██████████| 10/10 [00:11<00:00,  1.14s/it]\n",
            "  0%|          | 0/10 [00:00<?, ?it/s]"
          ]
        },
        {
          "name": "stdout",
          "output_type": "stream",
          "text": [
            "/content/drive/MyDrive/final/val/image/Copy of image10.jpg_ /content/drive/MyDrive/final/val/mask/Copy of image10.jpg_\n",
            "Copy of image10\n"
          ]
        },
        {
          "name": "stderr",
          "output_type": "stream",
          "text": [
            "\r 10%|█         | 1/10 [00:00<00:08,  1.03it/s]"
          ]
        },
        {
          "name": "stdout",
          "output_type": "stream",
          "text": [
            "/content/drive/MyDrive/final/val/image/Copy of image11.jpg_ /content/drive/MyDrive/final/val/mask/Copy of image11.jpg_\n",
            "Copy of image11\n"
          ]
        },
        {
          "name": "stderr",
          "output_type": "stream",
          "text": [
            "\r 20%|██        | 2/10 [00:01<00:06,  1.17it/s]"
          ]
        },
        {
          "name": "stdout",
          "output_type": "stream",
          "text": [
            "/content/drive/MyDrive/final/val/image/Copy of image12.jpg_ /content/drive/MyDrive/final/val/mask/Copy of image12.jpg_\n",
            "Copy of image12\n"
          ]
        },
        {
          "name": "stderr",
          "output_type": "stream",
          "text": [
            "\r 30%|███       | 3/10 [00:02<00:06,  1.11it/s]"
          ]
        },
        {
          "name": "stdout",
          "output_type": "stream",
          "text": [
            "/content/drive/MyDrive/final/val/image/Copy of image13.jpg_ /content/drive/MyDrive/final/val/mask/Copy of image13.jpg_\n",
            "Copy of image13\n"
          ]
        },
        {
          "name": "stderr",
          "output_type": "stream",
          "text": [
            "\r 40%|████      | 4/10 [00:03<00:05,  1.09it/s]"
          ]
        },
        {
          "name": "stdout",
          "output_type": "stream",
          "text": [
            "/content/drive/MyDrive/final/val/image/Copy of image14.jpg_ /content/drive/MyDrive/final/val/mask/Copy of image14.jpg_\n",
            "Copy of image14\n"
          ]
        },
        {
          "name": "stderr",
          "output_type": "stream",
          "text": [
            "\r 50%|█████     | 5/10 [00:04<00:04,  1.14it/s]"
          ]
        },
        {
          "name": "stdout",
          "output_type": "stream",
          "text": [
            "/content/drive/MyDrive/final/val/image/Copy of image15.jpg_ /content/drive/MyDrive/final/val/mask/Copy of image15.jpg_\n",
            "Copy of image15\n"
          ]
        },
        {
          "name": "stderr",
          "output_type": "stream",
          "text": [
            "\r 60%|██████    | 6/10 [00:05<00:03,  1.11it/s]"
          ]
        },
        {
          "name": "stdout",
          "output_type": "stream",
          "text": [
            "/content/drive/MyDrive/final/val/image/Copy of image16.jpg_ /content/drive/MyDrive/final/val/mask/Copy of image16.jpg_\n",
            "Copy of image16\n"
          ]
        },
        {
          "name": "stderr",
          "output_type": "stream",
          "text": [
            "\r 70%|███████   | 7/10 [00:06<00:02,  1.14it/s]"
          ]
        },
        {
          "name": "stdout",
          "output_type": "stream",
          "text": [
            "/content/drive/MyDrive/final/val/image/Copy of image17.jpg_ /content/drive/MyDrive/final/val/mask/Copy of image17.jpg_\n",
            "Copy of image17\n"
          ]
        },
        {
          "name": "stderr",
          "output_type": "stream",
          "text": [
            "\r 80%|████████  | 8/10 [00:07<00:01,  1.10it/s]"
          ]
        },
        {
          "name": "stdout",
          "output_type": "stream",
          "text": [
            "/content/drive/MyDrive/final/val/image/Copy of image18.jpg_ /content/drive/MyDrive/final/val/mask/Copy of image18.jpg_\n",
            "Copy of image18\n"
          ]
        },
        {
          "name": "stderr",
          "output_type": "stream",
          "text": [
            "\r 90%|█████████ | 9/10 [00:07<00:00,  1.15it/s]"
          ]
        },
        {
          "name": "stdout",
          "output_type": "stream",
          "text": [
            "/content/drive/MyDrive/final/val/image/Copy of image19.jpg_ /content/drive/MyDrive/final/val/mask/Copy of image19.jpg_\n",
            "Copy of image19\n"
          ]
        },
        {
          "name": "stderr",
          "output_type": "stream",
          "text": [
            "100%|██████████| 10/10 [00:08<00:00,  1.12it/s]\n"
          ]
        }
      ],
      "source": [
        "#data augmentation\n",
        "import os\n",
        "import numpy as np\n",
        "import cv2\n",
        "from glob import glob\n",
        "from tqdm import tqdm\n",
        "import imageio\n",
        "from albumentations import HorizontalFlip, VerticalFlip, ElasticTransform, Transpose, RandomRotate90, GridDistortion, OpticalDistortion, CoarseDropout\n",
        "from google.colab.patches import cv2_imshow\n",
        "def create_dir(path):\n",
        "    if not os.path.exists(path):\n",
        "        os.makedirs(path)\n",
        "\n",
        "def load_data(path):\n",
        "    \"\"\" X = Images and Y = masks \"\"\"\n",
        "\n",
        "    train_x = sorted(glob(os.path.join(path, \"train\", \"image\", \"*.jpg_\")))\n",
        "    train_y = sorted(glob(os.path.join(path, \"train\", \"mask\", \"*.jpg_\")))\n",
        "\n",
        "    val_x = sorted(glob(os.path.join(path, \"val\", \"image\", \"*.jpg_\")))\n",
        "    val_y = sorted(glob(os.path.join(path, \"val\", \"mask\", \"*.jpg_\")))\n",
        "\n",
        "    return (train_x, train_y), (val_x, val_y)\n",
        "def augment_data(images, mask, save_path, augment=True):\n",
        "    H = 512\n",
        "    W = 512\n",
        "    \n",
        "    for idx, (x, y) in tqdm(enumerate(zip(images, mask)), total=len(images)):\n",
        "        print(x,y)\n",
        "        name = x.split(\"/\")[-1].split(\".\")[0]\n",
        "        print(name)\n",
        "        \"\"\" Reading image and mask \"\"\"\n",
        "        x = cv2.imread(x, cv2.IMREAD_COLOR)\n",
        "        #y = imageio.mimread(y)[0]\n",
        "        y =cv2.imread(y, cv2.IMREAD_COLOR)\n",
        "        #cv2_imshow(x)\n",
        "        #print (x.shape, y.shape)\n",
        "       \n",
        "        \n",
        "        if augment == True:\n",
        "            aug = HorizontalFlip(p=1.0)\n",
        "            augmented = aug(image=x, mask=y)\n",
        "            x1 = augmented[\"image\"]\n",
        "            y1 = augmented[\"mask\"]\n",
        "\n",
        "            aug = VerticalFlip(p=1.0)\n",
        "            augmented = aug(image=x, mask=y)\n",
        "            x2 = augmented[\"image\"]\n",
        "            y2 = augmented[\"mask\"]\n",
        "\n",
        "            aug = ElasticTransform(p=1, alpha=120, sigma=120 * 0.05, alpha_affine=120 * 0.03)\n",
        "            augmented = aug(image=x, mask=y)\n",
        "            x3 = augmented['image']\n",
        "            y3 = augmented['mask']\n",
        "\n",
        "            aug = GridDistortion(p=1)\n",
        "            augmented = aug(image=x, mask=y)\n",
        "            x4 = augmented['image']\n",
        "            y4 = augmented['mask']\n",
        "\n",
        "            aug = OpticalDistortion(p=1, distort_limit=2, shift_limit=0.5)\n",
        "            augmented = aug(image=x, mask=y)\n",
        "            x5 = augmented['image']\n",
        "            y5 = augmented['mask']\n",
        "\n",
        "            aug = RandomRotate90(p=1)\n",
        "            augmented = aug(image=x, mask=y)\n",
        "            x6 = augmented['image']\n",
        "            y6 = augmented['mask']\n",
        "\n",
        "            aug = Transpose(p=1)\n",
        "            augmented = aug(image=x, mask=y)\n",
        "            x7 = augmented['image']\n",
        "            y7 = augmented['mask']\n",
        "\n",
        "          \n",
        "            X = [x, x1, x2, x3, x4, x5, x6, x7]\n",
        "            Y = [y, y1, y2, y3, y4, y5, y6, y7]\n",
        "       \n",
        "        else:\n",
        "            X = [x]\n",
        "            Y = [y]\n",
        "\n",
        "        index = 0\n",
        "        for i, m in zip(X, Y):\n",
        "            i = cv2.resize(i, (W, H))\n",
        "            m = cv2.resize(m, (W, H))\n",
        "\n",
        "            if len(X) == 1:\n",
        "              tmp_image_name = f\"{name}.jpg\"\n",
        "              tmp_mask_name = f\"{name}.jpg\"\n",
        "\n",
        "            else:\n",
        "              tmp_image_name = f\"{name}_{index}.jpg\"\n",
        "              tmp_mask_name = f\"{name}_{index}.jpg\"\n",
        "              \n",
        "\n",
        "            #print(tmp_image_name)\n",
        "\n",
        "            image_path = os.path.join(save_path, \"image\", tmp_image_name)\n",
        "            mask_path = os.path.join(save_path, \"mask\", tmp_mask_name)\n",
        "\n",
        "            cv2.imwrite(image_path, i)\n",
        "            cv2.imwrite(mask_path, m)\n",
        "            #cv2_imshow(i)\n",
        "            #print(image_path)\n",
        "            index += 1\n",
        "        \n",
        "if __name__ == \"__main__\":\n",
        "    \"\"\" Seeding \"\"\"\n",
        "    np.random.seed(42)\n",
        "\n",
        "    \"\"\" Load the data \"\"\"\n",
        "    data_path = \"/content/drive/MyDrive/final\"\n",
        "    (train_x, train_y), (val_x, val_y) = load_data(data_path)\n",
        "\n",
        "    print(f\"Train: {len(train_x)} - {len(train_y)}\")\n",
        "    print(f\"Test: {len(val_x)} - {len(val_y)}\")\n",
        "\n",
        "\n",
        "    \"\"\" Creating directories \"\"\"\n",
        "    create_dir(\"/content/drive/MyDrive/forunet/finaldata/train/image\")\n",
        "    create_dir(\"/content/drive/MyDrive/forunet/finaldata/train/mask\")\n",
        "    create_dir(\"/content/drive/MyDrive/forunet/finaldata/val/image\")\n",
        "    create_dir(\"/content/drive/MyDrive/forunet/finaldata/val/mask\")\n",
        "\n",
        "    augment_data(train_x, train_y, \"/content/drive/MyDrive/forunet/finaldata/train\" , augment=True)\n",
        "    augment_data(val_x, val_y, \"/content/drive/MyDrive/forunet/finaldata/val\" , augment=False)\n",
        "        \n"
      ]
    }
  ],
  "metadata": {
    "accelerator": "GPU",
    "colab": {
      "collapsed_sections": [],
      "provenance": []
    },
    "kernelspec": {
      "display_name": "Python 3",
      "name": "python3"
    },
    "language_info": {
      "name": "python"
    }
  },
  "nbformat": 4,
  "nbformat_minor": 0
}
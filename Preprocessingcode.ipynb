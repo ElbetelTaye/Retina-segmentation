{
  "nbformat": 4,
  "nbformat_minor": 0,
  "metadata": {
    "colab": {
      "provenance": []
    },
    "kernelspec": {
      "name": "python3",
      "display_name": "Python 3"
    },
    "language_info": {
      "name": "python"
    }
  },
  "cells": [
    {
      "cell_type": "code",
      "execution_count": null,
      "metadata": {
        "id": "6UbbFkxaqAC6"
      },
      "outputs": [],
      "source": []
    },
    {
      "cell_type": "code",
      "source": [
        "# This code was used to perform all the image preprocessing parts including, image resize, data augmentation, color channel split, and to apply of CLAHE on images in a give folder\n",
        "import os\n",
        "import numpy as np\n",
        "import cv2\n",
        "from glob import glob\n",
        "from tqdm import tqdm\n",
        "import imageio\n",
        "from albumentations import HorizontalFlip, VerticalFlip, ElasticTransform, Transpose, RandomRotate90, GridDistortion, OpticalDistortion, CoarseDropout\n",
        "from google.colab.patches import cv2_imshow\n",
        "def create_dir(path):\n",
        "    if not os.path.exists(path):\n",
        "        os.makedirs(path)\n",
        "\n",
        "def load_data(path):\n",
        "    \"\"\" X = Images and Y = masks \"\"\"\n",
        "\n",
        "    train_x = sorted(glob(os.path.join(path, \"train/image\", \"*.jpg\")))\n",
        "    train_y = sorted(glob(os.path.join(path, \"train/mask\", \"*.jpg\")))\n",
        "\n",
        "    val_x = sorted(glob(os.path.join(path, \"image\", \"*.jpg\")))\n",
        "    val_y = sorted(glob(os.path.join(path, \"mask\", \"*.jpg\")))\n",
        "\n",
        "    return (train_x, train_y), (val_x, val_y)\n",
        "def augment_data(images, mask, save_path, augment=True):\n",
        "    H = 512\n",
        "    W = 512\n",
        "    \n",
        "    for idx, (x, y) in tqdm(enumerate(zip(images, mask)), total=len(images)):\n",
        "        print(x,y)\n",
        "        name = x.split(\"/\")[-1].split(\".\")[0]\n",
        "        print(name)\n",
        "        \"\"\" Reading image and mask \"\"\"\n",
        "        x = cv2.imread(x, cv2.IMREAD_COLOR)\n",
        "        #y = imageio.mimread(y)[0]       # This line was used to read .gif images\n",
        "        y =cv2.imread(y, cv2.IMREAD_COLOR)\n",
        "        #cv2_imshow(x)\n",
        "        #print (x.shape, y.shape)\n",
        "       \n",
        "        \n",
        "        if augment == True:\n",
        "            aug = HorizontalFlip(p=1.0)\n",
        "            augmented = aug(image=x, mask=y)\n",
        "            x1 = augmented[\"image\"]\n",
        "            y1 = augmented[\"mask\"]\n",
        "\n",
        "            aug = VerticalFlip(p=1.0)\n",
        "            augmented = aug(image=x, mask=y)\n",
        "            x2 = augmented[\"image\"]\n",
        "            y2 = augmented[\"mask\"]\n",
        "\n",
        "            aug = ElasticTransform(p=1, alpha=120, sigma=120 * 0.05, alpha_affine=120 * 0.03)\n",
        "            augmented = aug(image=x, mask=y)\n",
        "            x3 = augmented['image']\n",
        "            y3 = augmented['mask']\n",
        "\n",
        "            aug = GridDistortion(p=1)\n",
        "            augmented = aug(image=x, mask=y)\n",
        "            x4 = augmented['image']\n",
        "            y4 = augmented['mask']\n",
        "\n",
        "            aug = OpticalDistortion(p=1, distort_limit=2, shift_limit=0.5)\n",
        "            augmented = aug(image=x, mask=y)\n",
        "            x5 = augmented['image']\n",
        "            y5 = augmented['mask']\n",
        "\n",
        "            aug = RandomRotate90(p=1)\n",
        "            augmented = aug(image=x, mask=y)\n",
        "            x6 = augmented['image']\n",
        "            y6 = augmented['mask']\n",
        "\n",
        "            aug = Transpose(p=1)\n",
        "            augmented = aug(image=x, mask=y)\n",
        "            x7 = augmented['image']\n",
        "            y7 = augmented['mask']\n",
        "\n",
        "          \n",
        "            X = [x, x1, x2, x3, x4, x5, x6, x7]\n",
        "            Y = [y, y1, y2, y3, y4, y5, y6, y7]\n",
        "       \n",
        "        else:\n",
        "            X = [x]\n",
        "            Y = [y]\n",
        "\n",
        "        index = 0\n",
        "        for i, m in zip(X, Y):\n",
        "            i = cv2.resize(i, (W, H))\n",
        "            #(B, G, R) = cv2.split(i)      # this line was used to split image color channel\n",
        "            #clahe = cv2.createCLAHE(clipLimit=2.0, tileGridSize=(8, 8))             \n",
        "            #equalized = clahe.apply(G)                       #this line helps to apply clahe on the input image\n",
        "            m = cv2.resize(m, (W, H))\n",
        "\n",
        "            if len(X) == 1:\n",
        "              tmp_image_name = f\"{name}.jpg\"\n",
        "              tmp_mask_name = f\"{name}.jpg\"\n",
        "\n",
        "            else:\n",
        "              tmp_image_name = f\"{name}_{index}.jpg\"\n",
        "              tmp_mask_name = f\"{name}_{index}.jpg\"\n",
        "              \n",
        "\n",
        "            #print(tmp_image_name)\n",
        "\n",
        "            image_path = os.path.join(save_path, \"image\", tmp_image_name)\n",
        "            mask_path = os.path.join(save_path, \"mask\", tmp_mask_name)\n",
        "\n",
        "            cv2.imwrite(image_path, i)\n",
        "            cv2.imwrite(mask_path, m)\n",
        "            #cv2_imshow(i)\n",
        "            #print(image_path)\n",
        "            index += 1\n",
        "        \n",
        "if __name__ == \"__main__\":\n",
        "    \"\"\" Seeding \"\"\"\n",
        "    np.random.seed(42)\n",
        "\n",
        "    \"\"\" Load the data \"\"\"\n",
        "    data_path = \"/content/drive/MyDrive/lastcolor\"\n",
        "    (train_x, train_y), (val_x, val_y) = load_data(data_path)\n",
        "\n",
        "    print(f\"Train: {len(train_x)} - {len(train_y)}\")\n",
        "    print(f\"Test: {len(val_x)} - {len(val_y)}\")\n",
        "\n",
        "\n",
        "    \"\"\" Creating directories \"\"\"\n",
        "    create_dir(\"/content/drive/MyDrive/lastcolor/training/image\")\n",
        "    create_dir(\"/content/drive/MyDrive/lastcolor/training/mask\")\n",
        "    #create_dir(\"/content/drive/MyDrive/staredata/RGB_final/test/image\")\n",
        "    #create_dir(\"/content/drive/MyDrive/staredata/RGB_final/test/mask\")\n",
        "\n",
        "    augment_data(train_x, train_y, \"/content/drive/MyDrive/lastcolor/training\" , augment= True)\n",
        "    #augment_data(val_x, val_y, \"/content/drive/MyDrive/staredata/RGB_final/test\" , augment=False)\n",
        "        \n"
      ],
      "metadata": {
        "id": "EqYeuAnVJiC1",
        "colab": {
          "base_uri": "https://localhost:8080/"
        },
        "outputId": "d0494da0-c69a-4d6b-a9c3-51587065b928"
      },
      "execution_count": null,
      "outputs": [
        {
          "output_type": "stream",
          "name": "stdout",
          "text": [
            "Train: 20 - 20\n",
            "Test: 0 - 0\n"
          ]
        },
        {
          "output_type": "stream",
          "name": "stderr",
          "text": [
            "\r  0%|          | 0/20 [00:00<?, ?it/s]"
          ]
        },
        {
          "output_type": "stream",
          "name": "stdout",
          "text": [
            "/content/drive/MyDrive/lastcolor/train/image/Copy of 21_training.jpg /content/drive/MyDrive/lastcolor/train/mask/Copy of 21_training.jpg\n",
            "Copy of 21_training\n"
          ]
        },
        {
          "output_type": "stream",
          "name": "stderr",
          "text": [
            "\r  5%|▌         | 1/20 [00:01<00:19,  1.03s/it]"
          ]
        },
        {
          "output_type": "stream",
          "name": "stdout",
          "text": [
            "/content/drive/MyDrive/lastcolor/train/image/Copy of 22_training.jpg /content/drive/MyDrive/lastcolor/train/mask/Copy of 22_training.jpg\n",
            "Copy of 22_training\n"
          ]
        },
        {
          "output_type": "stream",
          "name": "stderr",
          "text": [
            "\r 10%|█         | 2/20 [00:01<00:16,  1.12it/s]"
          ]
        },
        {
          "output_type": "stream",
          "name": "stdout",
          "text": [
            "/content/drive/MyDrive/lastcolor/train/image/Copy of 23_training.jpg /content/drive/MyDrive/lastcolor/train/mask/Copy of 23_training.jpg\n",
            "Copy of 23_training\n"
          ]
        },
        {
          "output_type": "stream",
          "name": "stderr",
          "text": [
            "\r 15%|█▌        | 3/20 [00:02<00:15,  1.10it/s]"
          ]
        },
        {
          "output_type": "stream",
          "name": "stdout",
          "text": [
            "/content/drive/MyDrive/lastcolor/train/image/Copy of 24_training.jpg /content/drive/MyDrive/lastcolor/train/mask/Copy of 24_training.jpg\n",
            "Copy of 24_training\n"
          ]
        },
        {
          "output_type": "stream",
          "name": "stderr",
          "text": [
            "\r 20%|██        | 4/20 [00:03<00:14,  1.14it/s]"
          ]
        },
        {
          "output_type": "stream",
          "name": "stdout",
          "text": [
            "/content/drive/MyDrive/lastcolor/train/image/Copy of 25_training.jpg /content/drive/MyDrive/lastcolor/train/mask/Copy of 25_training.jpg\n",
            "Copy of 25_training\n"
          ]
        },
        {
          "output_type": "stream",
          "name": "stderr",
          "text": [
            "\r 25%|██▌       | 5/20 [00:04<00:13,  1.14it/s]"
          ]
        },
        {
          "output_type": "stream",
          "name": "stdout",
          "text": [
            "/content/drive/MyDrive/lastcolor/train/image/Copy of 26_training.jpg /content/drive/MyDrive/lastcolor/train/mask/Copy of 26_training.jpg\n",
            "Copy of 26_training\n"
          ]
        },
        {
          "output_type": "stream",
          "name": "stderr",
          "text": [
            "\r 30%|███       | 6/20 [00:05<00:12,  1.14it/s]"
          ]
        },
        {
          "output_type": "stream",
          "name": "stdout",
          "text": [
            "/content/drive/MyDrive/lastcolor/train/image/Copy of 27_training.jpg /content/drive/MyDrive/lastcolor/train/mask/Copy of 27_training.jpg\n",
            "Copy of 27_training\n"
          ]
        },
        {
          "output_type": "stream",
          "name": "stderr",
          "text": [
            "\r 35%|███▌      | 7/20 [00:06<00:10,  1.19it/s]"
          ]
        },
        {
          "output_type": "stream",
          "name": "stdout",
          "text": [
            "/content/drive/MyDrive/lastcolor/train/image/Copy of 28_training.jpg /content/drive/MyDrive/lastcolor/train/mask/Copy of 28_training.jpg\n",
            "Copy of 28_training\n"
          ]
        },
        {
          "output_type": "stream",
          "name": "stderr",
          "text": [
            "\r 40%|████      | 8/20 [00:07<00:10,  1.15it/s]"
          ]
        },
        {
          "output_type": "stream",
          "name": "stdout",
          "text": [
            "/content/drive/MyDrive/lastcolor/train/image/Copy of 29_training.jpg /content/drive/MyDrive/lastcolor/train/mask/Copy of 29_training.jpg\n",
            "Copy of 29_training\n"
          ]
        },
        {
          "output_type": "stream",
          "name": "stderr",
          "text": [
            "\r 45%|████▌     | 9/20 [00:08<00:10,  1.10it/s]"
          ]
        },
        {
          "output_type": "stream",
          "name": "stdout",
          "text": [
            "/content/drive/MyDrive/lastcolor/train/image/Copy of 30_training.jpg /content/drive/MyDrive/lastcolor/train/mask/Copy of 30_training.jpg\n",
            "Copy of 30_training\n"
          ]
        },
        {
          "output_type": "stream",
          "name": "stderr",
          "text": [
            "\r 50%|█████     | 10/20 [00:08<00:08,  1.11it/s]"
          ]
        },
        {
          "output_type": "stream",
          "name": "stdout",
          "text": [
            "/content/drive/MyDrive/lastcolor/train/image/Copy of im0001.jpg /content/drive/MyDrive/lastcolor/train/mask/Copy of im0001.jpg\n",
            "Copy of im0001\n"
          ]
        },
        {
          "output_type": "stream",
          "name": "stderr",
          "text": [
            "\r 55%|█████▌    | 11/20 [00:09<00:08,  1.12it/s]"
          ]
        },
        {
          "output_type": "stream",
          "name": "stdout",
          "text": [
            "/content/drive/MyDrive/lastcolor/train/image/Copy of im0002.jpg /content/drive/MyDrive/lastcolor/train/mask/Copy of im0002.jpg\n",
            "Copy of im0002\n"
          ]
        },
        {
          "output_type": "stream",
          "name": "stderr",
          "text": [
            "\r 60%|██████    | 12/20 [00:10<00:06,  1.17it/s]"
          ]
        },
        {
          "output_type": "stream",
          "name": "stdout",
          "text": [
            "/content/drive/MyDrive/lastcolor/train/image/Copy of im0003.jpg /content/drive/MyDrive/lastcolor/train/mask/Copy of im0003.jpg\n",
            "Copy of im0003\n"
          ]
        },
        {
          "output_type": "stream",
          "name": "stderr",
          "text": [
            "\r 65%|██████▌   | 13/20 [00:11<00:05,  1.24it/s]"
          ]
        },
        {
          "output_type": "stream",
          "name": "stdout",
          "text": [
            "/content/drive/MyDrive/lastcolor/train/image/Copy of im0004.jpg /content/drive/MyDrive/lastcolor/train/mask/Copy of im0004.jpg\n",
            "Copy of im0004\n"
          ]
        },
        {
          "output_type": "stream",
          "name": "stderr",
          "text": [
            "\r 70%|███████   | 14/20 [00:11<00:04,  1.27it/s]"
          ]
        },
        {
          "output_type": "stream",
          "name": "stdout",
          "text": [
            "/content/drive/MyDrive/lastcolor/train/image/Copy of im0005.jpg /content/drive/MyDrive/lastcolor/train/mask/Copy of im0005.jpg\n",
            "Copy of im0005\n"
          ]
        },
        {
          "output_type": "stream",
          "name": "stderr",
          "text": [
            "\r 75%|███████▌  | 15/20 [00:12<00:03,  1.32it/s]"
          ]
        },
        {
          "output_type": "stream",
          "name": "stdout",
          "text": [
            "/content/drive/MyDrive/lastcolor/train/image/Copy of im0044.jpg /content/drive/MyDrive/lastcolor/train/mask/Copy of im0044.jpg\n",
            "Copy of im0044\n"
          ]
        },
        {
          "output_type": "stream",
          "name": "stderr",
          "text": [
            "\r 80%|████████  | 16/20 [00:13<00:03,  1.23it/s]"
          ]
        },
        {
          "output_type": "stream",
          "name": "stdout",
          "text": [
            "/content/drive/MyDrive/lastcolor/train/image/Copy of im0077.jpg /content/drive/MyDrive/lastcolor/train/mask/Copy of im0077.jpg\n",
            "Copy of im0077\n"
          ]
        },
        {
          "output_type": "stream",
          "name": "stderr",
          "text": [
            "\r 85%|████████▌ | 17/20 [00:14<00:02,  1.22it/s]"
          ]
        },
        {
          "output_type": "stream",
          "name": "stdout",
          "text": [
            "/content/drive/MyDrive/lastcolor/train/image/Copy of im0081.jpg /content/drive/MyDrive/lastcolor/train/mask/Copy of im0081.jpg\n",
            "Copy of im0081\n"
          ]
        },
        {
          "output_type": "stream",
          "name": "stderr",
          "text": [
            "\r 90%|█████████ | 18/20 [00:15<00:01,  1.19it/s]"
          ]
        },
        {
          "output_type": "stream",
          "name": "stdout",
          "text": [
            "/content/drive/MyDrive/lastcolor/train/image/Copy of im0082.jpg /content/drive/MyDrive/lastcolor/train/mask/Copy of im0082.jpg\n",
            "Copy of im0082\n"
          ]
        },
        {
          "output_type": "stream",
          "name": "stderr",
          "text": [
            "\r 95%|█████████▌| 19/20 [00:16<00:00,  1.25it/s]"
          ]
        },
        {
          "output_type": "stream",
          "name": "stdout",
          "text": [
            "/content/drive/MyDrive/lastcolor/train/image/Copy of im0139.jpg /content/drive/MyDrive/lastcolor/train/mask/Copy of im0139.jpg\n",
            "Copy of im0139\n"
          ]
        },
        {
          "output_type": "stream",
          "name": "stderr",
          "text": [
            "100%|██████████| 20/20 [00:16<00:00,  1.19it/s]\n"
          ]
        }
      ]
    }
  ]
}